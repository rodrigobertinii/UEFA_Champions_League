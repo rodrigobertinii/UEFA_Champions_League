{
  "nbformat": 4,
  "nbformat_minor": 0,
  "metadata": {
    "colab": {
      "provenance": [],
      "mount_file_id": "1y4wti1w-rV7JWkYoowouueZPmhDvjNSH",
      "authorship_tag": "ABX9TyPxfeBwKivrRCgvTG68/UUF",
      "include_colab_link": true
    },
    "kernelspec": {
      "name": "python3",
      "display_name": "Python 3"
    },
    "language_info": {
      "name": "python"
    }
  },
  "cells": [
    {
      "cell_type": "markdown",
      "metadata": {
        "id": "view-in-github",
        "colab_type": "text"
      },
      "source": [
        "<a href=\"https://colab.research.google.com/github/rodrigobertinii/UEFA_Champions_League/blob/main/UEFA_Champions_League_2016_2022_.ipynb\" target=\"_parent\"><img src=\"https://colab.research.google.com/assets/colab-badge.svg\" alt=\"Open In Colab\"/></a>"
      ]
    },
    {
      "cell_type": "markdown",
      "source": [
        "# BANCO DE DADOS UEFA 2016 - 2022\n",
        "\n",
        "https://www.kaggle.com/datasets/cbxkgl/uefa-champions-league-2016-2022-data/data"
      ],
      "metadata": {
        "id": "Pby-8PfjqMEg"
      }
    },
    {
      "cell_type": "markdown",
      "source": [
        "![image.png](data:image/png;base64,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)"
      ],
      "metadata": {
        "id": "mCnI9KJR8mNh"
      }
    },
    {
      "cell_type": "markdown",
      "source": [
        "Importação das bibliotecas"
      ],
      "metadata": {
        "id": "Rp4IFrALp4jk"
      }
    },
    {
      "cell_type": "code",
      "execution_count": null,
      "metadata": {
        "id": "rglZv5v8pHuB"
      },
      "outputs": [],
      "source": [
        "import pandas as pd\n",
        "import numpy as np\n",
        "import seaborn as sns\n",
        "import matplotlib.pyplot as plt"
      ]
    },
    {
      "cell_type": "markdown",
      "source": [
        "# UEFA Champions League 2016-2022 Dataset\n",
        "\n",
        "Este repositório contém dados detalhados sobre a **UEFA Champions League** de 2016 a 2022. O dataset abrange informações sobre times, jogadores, estádios, treinadores, partidas e mais. Abaixo estão as descrições de cada aba presente no dataset.\n",
        "\n",
        "---\n",
        "\n",
        "## **Teams (Times)**\n",
        "\n",
        "Esta aba contém informações sobre os times que participaram da UEFA Champions League.\n",
        "\n",
        "- **TEAM_NAME**: Nome oficial do time. **PK**\n",
        "- **COUNTRY**: País de origem do time.\n",
        "- **HOME_STADIUM**: Nome do estádio onde o time joga suas partidas em casa. **FK**\n",
        "\n",
        "---\n",
        "\n",
        "## **Stadiums (Estádios)**\n",
        "\n",
        "Esta aba detalha os estádios dos times que participaram da UEFA Champions League.\n",
        "\n",
        "- **NAME**: Nome do estádio. **PK**\n",
        "- **CITY**: Cidade onde o estádio está localizado.\n",
        "- **COUNTRY**: País onde o estádio se encontra.\n",
        "- **CAPACITY**: Capacidade total do estádio, ou seja, o número máximo de pessoas que ele pode acomodar.\n",
        "\n",
        "---\n",
        "\n",
        "## **Players (Jogadores)**\n",
        "\n",
        "Aqui estão os dados dos jogadores que participaram da competição.\n",
        "\n",
        "- **PLAYER_ID**: Identificador único para cada jogador (ID). **PK**\n",
        "- **FIRST_NAME**: Primeiro nome do jogador.\n",
        "- **LAST_NAME**: Sobrenome do jogador.\n",
        "- **NATIONALITY**: Nacionalidade do jogador (país de origem).\n",
        "- **DOB**: Data de nascimento do jogador (formato: dia/mês/ano).\n",
        "- **TEAM**: Nome do time para o qual o jogador joga. **FK**\n",
        "- **JERSEY_NUMBER**: Número da camisa do jogador.\n",
        "- **POSITION**: Posição que o jogador ocupa em campo.\n",
        "- **HEIGHT**: Altura do jogador (em centímetros).\n",
        "- **WEIGHT**: Peso do jogador (em quilogramas).\n",
        "- **FOOT**: Pé com maior habilidade do jogador.\n",
        "\n",
        "---\n",
        "\n",
        "## **Managers (Treinadores)**\n",
        "\n",
        "Esta aba contém as informações sobre os treinadores dos times.\n",
        "\n",
        "- **FIRST_NAME**: Primeiro nome do treinador.\n",
        "- **LAST_NAME**: Sobrenome do treinador. **PK**\n",
        "- **NATIONALITY**: Nacionalidade do treinador.\n",
        "- **DOB**: Data de nascimento do treinador (formato: dia/mês/ano).\n",
        "- **TEAM**: Nome do time ao qual o treinador está associado. **FK**\n",
        "\n",
        "---\n",
        "\n",
        "## **Matches (Partidas)**\n",
        "\n",
        "Nesta aba, você encontra os dados sobre as partidas da UEFA Champions League.\n",
        "\n",
        "- **MATCH_ID**: Identificador único para cada partida. **PK**\n",
        "- **SEASON**: Ano da temporada da UEFA Champions League.\n",
        "- **DATE_TIME**: Data e hora em que o jogo ocorreu (formato: dia/mês/ano e hora).\n",
        "- **HOME_TEAM**: Nome do time da casa (aquele que joga em seu estádio). **FK**\n",
        "- **AWAY_TEAM**: Nome do time visitante (aquele que joga no estádio do time da casa). **FK**\n",
        "- **STADIUM**: Nome do estádio onde a partida foi realizada. **FK**\n",
        "- **HOME_TEAM_SCORE**: Número de gols marcados pelo time da casa.\n",
        "- **AWAY_TEAM_SCORE**: Número de gols marcados pelo time visitante.\n",
        "- **PENALTY_SHOOT_OUT**: Indica se a partida foi decidida por uma disputa de pênaltis.\n",
        "- **ATTENDANCE**: Número de espectadores presentes no estádio durante a partida.\n",
        "\n",
        "---\n",
        "\n",
        "## **goals (Gols)**\n",
        "\n",
        "Nesta aba, são armazenados os dados relacionados aos gols da UEFA Champions League.\n",
        "\n",
        "- **GOAL_ID**: Identificador único para cada gol registrado **PK**.\n",
        "- **MATCH_ID**: Identificador único de cada partida, associando o gol à partida correspondente. **PK**\n",
        "- **PID**: Identificador do jogador que marcou o gol. **PK**\n",
        "- **DURATION**: Momento do jogo (em minutos) em que o gol foi marcado, variando de 0 a 90 minutos.\n",
        "- **ASSIST**: Jogador que deu a assistência para o gol. **PK**\n",
        "- **GOAL_DESC**: Detalhe do gol\n",
        "\n",
        "---\n",
        "\n",
        "## **Team Logo (Logo dos Times)**\n",
        "\n",
        "Nesta aba, encontra-se os logos de cada time participante da UEFA\n",
        "\n",
        "- **LOGO_ID**: Identificador único para cada logo **PK**.\n",
        "- **TEAM_NAME**: Nome do time o qual o logo é destinado **PK**\n",
        "- **URL**: Endereço online no qual é possível visualizar o logo do time\n",
        "---"
      ],
      "metadata": {
        "id": "tgk2aT0Jzokm"
      }
    },
    {
      "cell_type": "markdown",
      "source": [
        "Leitura de todas as abas da planilha UEFA Champions League 2016-2022"
      ],
      "metadata": {
        "id": "DF1XEbGsp7w7"
      }
    },
    {
      "cell_type": "code",
      "source": [
        " teams = pd.read_excel('/content/drive/MyDrive/Colab Notebooks/Projetos GitHub/UEFA Champions League 2016-2022 /UEFA Champions League 2016-2022 Data.xlsx', sheet_name='teams')\n",
        " stadiums = pd.read_excel('/content/drive/MyDrive/Colab Notebooks/Projetos GitHub/UEFA Champions League 2016-2022 /UEFA Champions League 2016-2022 Data.xlsx', sheet_name='stadiums')\n",
        " players = pd.read_excel('/content/drive/MyDrive/Colab Notebooks/Projetos GitHub/UEFA Champions League 2016-2022 /UEFA Champions League 2016-2022 Data.xlsx', sheet_name='players')\n",
        " managers = pd.read_excel('/content/drive/MyDrive/Colab Notebooks/Projetos GitHub/UEFA Champions League 2016-2022 /UEFA Champions League 2016-2022 Data.xlsx', sheet_name='managers')\n",
        " matches = pd.read_excel('/content/drive/MyDrive/Colab Notebooks/Projetos GitHub/UEFA Champions League 2016-2022 /UEFA Champions League 2016-2022 Data.xlsx', sheet_name='matches')\n",
        " goals = pd.read_excel('/content/drive/MyDrive/Colab Notebooks/Projetos GitHub/UEFA Champions League 2016-2022 /UEFA Champions League 2016-2022 Data.xlsx', sheet_name='goals')"
      ],
      "metadata": {
        "id": "EiS-4tDUpQ1u"
      },
      "execution_count": null,
      "outputs": []
    },
    {
      "cell_type": "markdown",
      "source": [
        "Mostrar 4 linhas de teams"
      ],
      "metadata": {
        "id": "-5m1E5Wtq1A1"
      }
    },
    {
      "cell_type": "code",
      "source": [
        "teams.sample(4)"
      ],
      "metadata": {
        "colab": {
          "base_uri": "https://localhost:8080/",
          "height": 175
        },
        "id": "leYWC9dBqGuN",
        "outputId": "6a1cb9ac-f63c-4262-db3b-356e7b7c2b49"
      },
      "execution_count": null,
      "outputs": [
        {
          "output_type": "execute_result",
          "data": {
            "text/plain": [
              "            TEAM_NAME     COUNTRY               HOME_STADIUM\n",
              "35       FK Krasnodar      Russia          Krasnodar Stadium\n",
              "30      Villarreal CF       Spain     Estadio de la Cerámica\n",
              "50  Tottenham Hotspur     England  Tottenham Hotspur Stadium\n",
              "65         Qarabağ FK  Azerbaijan            Qarabağ Stadium"
            ],
            "text/html": [
              "\n",
              "  <div id=\"df-68c232a9-8359-4b79-b7bf-544aa01d8c40\" class=\"colab-df-container\">\n",
              "    <div>\n",
              "<style scoped>\n",
              "    .dataframe tbody tr th:only-of-type {\n",
              "        vertical-align: middle;\n",
              "    }\n",
              "\n",
              "    .dataframe tbody tr th {\n",
              "        vertical-align: top;\n",
              "    }\n",
              "\n",
              "    .dataframe thead th {\n",
              "        text-align: right;\n",
              "    }\n",
              "</style>\n",
              "<table border=\"1\" class=\"dataframe\">\n",
              "  <thead>\n",
              "    <tr style=\"text-align: right;\">\n",
              "      <th></th>\n",
              "      <th>TEAM_NAME</th>\n",
              "      <th>COUNTRY</th>\n",
              "      <th>HOME_STADIUM</th>\n",
              "    </tr>\n",
              "  </thead>\n",
              "  <tbody>\n",
              "    <tr>\n",
              "      <th>35</th>\n",
              "      <td>FK Krasnodar</td>\n",
              "      <td>Russia</td>\n",
              "      <td>Krasnodar Stadium</td>\n",
              "    </tr>\n",
              "    <tr>\n",
              "      <th>30</th>\n",
              "      <td>Villarreal CF</td>\n",
              "      <td>Spain</td>\n",
              "      <td>Estadio de la Cerámica</td>\n",
              "    </tr>\n",
              "    <tr>\n",
              "      <th>50</th>\n",
              "      <td>Tottenham Hotspur</td>\n",
              "      <td>England</td>\n",
              "      <td>Tottenham Hotspur Stadium</td>\n",
              "    </tr>\n",
              "    <tr>\n",
              "      <th>65</th>\n",
              "      <td>Qarabağ FK</td>\n",
              "      <td>Azerbaijan</td>\n",
              "      <td>Qarabağ Stadium</td>\n",
              "    </tr>\n",
              "  </tbody>\n",
              "</table>\n",
              "</div>\n",
              "    <div class=\"colab-df-buttons\">\n",
              "\n",
              "  <div class=\"colab-df-container\">\n",
              "    <button class=\"colab-df-convert\" onclick=\"convertToInteractive('df-68c232a9-8359-4b79-b7bf-544aa01d8c40')\"\n",
              "            title=\"Convert this dataframe to an interactive table.\"\n",
              "            style=\"display:none;\">\n",
              "\n",
              "  <svg xmlns=\"http://www.w3.org/2000/svg\" height=\"24px\" viewBox=\"0 -960 960 960\">\n",
              "    <path d=\"M120-120v-720h720v720H120Zm60-500h600v-160H180v160Zm220 220h160v-160H400v160Zm0 220h160v-160H400v160ZM180-400h160v-160H180v160Zm440 0h160v-160H620v160ZM180-180h160v-160H180v160Zm440 0h160v-160H620v160Z\"/>\n",
              "  </svg>\n",
              "    </button>\n",
              "\n",
              "  <style>\n",
              "    .colab-df-container {\n",
              "      display:flex;\n",
              "      gap: 12px;\n",
              "    }\n",
              "\n",
              "    .colab-df-convert {\n",
              "      background-color: #E8F0FE;\n",
              "      border: none;\n",
              "      border-radius: 50%;\n",
              "      cursor: pointer;\n",
              "      display: none;\n",
              "      fill: #1967D2;\n",
              "      height: 32px;\n",
              "      padding: 0 0 0 0;\n",
              "      width: 32px;\n",
              "    }\n",
              "\n",
              "    .colab-df-convert:hover {\n",
              "      background-color: #E2EBFA;\n",
              "      box-shadow: 0px 1px 2px rgba(60, 64, 67, 0.3), 0px 1px 3px 1px rgba(60, 64, 67, 0.15);\n",
              "      fill: #174EA6;\n",
              "    }\n",
              "\n",
              "    .colab-df-buttons div {\n",
              "      margin-bottom: 4px;\n",
              "    }\n",
              "\n",
              "    [theme=dark] .colab-df-convert {\n",
              "      background-color: #3B4455;\n",
              "      fill: #D2E3FC;\n",
              "    }\n",
              "\n",
              "    [theme=dark] .colab-df-convert:hover {\n",
              "      background-color: #434B5C;\n",
              "      box-shadow: 0px 1px 3px 1px rgba(0, 0, 0, 0.15);\n",
              "      filter: drop-shadow(0px 1px 2px rgba(0, 0, 0, 0.3));\n",
              "      fill: #FFFFFF;\n",
              "    }\n",
              "  </style>\n",
              "\n",
              "    <script>\n",
              "      const buttonEl =\n",
              "        document.querySelector('#df-68c232a9-8359-4b79-b7bf-544aa01d8c40 button.colab-df-convert');\n",
              "      buttonEl.style.display =\n",
              "        google.colab.kernel.accessAllowed ? 'block' : 'none';\n",
              "\n",
              "      async function convertToInteractive(key) {\n",
              "        const element = document.querySelector('#df-68c232a9-8359-4b79-b7bf-544aa01d8c40');\n",
              "        const dataTable =\n",
              "          await google.colab.kernel.invokeFunction('convertToInteractive',\n",
              "                                                    [key], {});\n",
              "        if (!dataTable) return;\n",
              "\n",
              "        const docLinkHtml = 'Like what you see? Visit the ' +\n",
              "          '<a target=\"_blank\" href=https://colab.research.google.com/notebooks/data_table.ipynb>data table notebook</a>'\n",
              "          + ' to learn more about interactive tables.';\n",
              "        element.innerHTML = '';\n",
              "        dataTable['output_type'] = 'display_data';\n",
              "        await google.colab.output.renderOutput(dataTable, element);\n",
              "        const docLink = document.createElement('div');\n",
              "        docLink.innerHTML = docLinkHtml;\n",
              "        element.appendChild(docLink);\n",
              "      }\n",
              "    </script>\n",
              "  </div>\n",
              "\n",
              "\n",
              "<div id=\"df-4680647e-902b-4fcb-89b7-525d12897c36\">\n",
              "  <button class=\"colab-df-quickchart\" onclick=\"quickchart('df-4680647e-902b-4fcb-89b7-525d12897c36')\"\n",
              "            title=\"Suggest charts\"\n",
              "            style=\"display:none;\">\n",
              "\n",
              "<svg xmlns=\"http://www.w3.org/2000/svg\" height=\"24px\"viewBox=\"0 0 24 24\"\n",
              "     width=\"24px\">\n",
              "    <g>\n",
              "        <path d=\"M19 3H5c-1.1 0-2 .9-2 2v14c0 1.1.9 2 2 2h14c1.1 0 2-.9 2-2V5c0-1.1-.9-2-2-2zM9 17H7v-7h2v7zm4 0h-2V7h2v10zm4 0h-2v-4h2v4z\"/>\n",
              "    </g>\n",
              "</svg>\n",
              "  </button>\n",
              "\n",
              "<style>\n",
              "  .colab-df-quickchart {\n",
              "      --bg-color: #E8F0FE;\n",
              "      --fill-color: #1967D2;\n",
              "      --hover-bg-color: #E2EBFA;\n",
              "      --hover-fill-color: #174EA6;\n",
              "      --disabled-fill-color: #AAA;\n",
              "      --disabled-bg-color: #DDD;\n",
              "  }\n",
              "\n",
              "  [theme=dark] .colab-df-quickchart {\n",
              "      --bg-color: #3B4455;\n",
              "      --fill-color: #D2E3FC;\n",
              "      --hover-bg-color: #434B5C;\n",
              "      --hover-fill-color: #FFFFFF;\n",
              "      --disabled-bg-color: #3B4455;\n",
              "      --disabled-fill-color: #666;\n",
              "  }\n",
              "\n",
              "  .colab-df-quickchart {\n",
              "    background-color: var(--bg-color);\n",
              "    border: none;\n",
              "    border-radius: 50%;\n",
              "    cursor: pointer;\n",
              "    display: none;\n",
              "    fill: var(--fill-color);\n",
              "    height: 32px;\n",
              "    padding: 0;\n",
              "    width: 32px;\n",
              "  }\n",
              "\n",
              "  .colab-df-quickchart:hover {\n",
              "    background-color: var(--hover-bg-color);\n",
              "    box-shadow: 0 1px 2px rgba(60, 64, 67, 0.3), 0 1px 3px 1px rgba(60, 64, 67, 0.15);\n",
              "    fill: var(--button-hover-fill-color);\n",
              "  }\n",
              "\n",
              "  .colab-df-quickchart-complete:disabled,\n",
              "  .colab-df-quickchart-complete:disabled:hover {\n",
              "    background-color: var(--disabled-bg-color);\n",
              "    fill: var(--disabled-fill-color);\n",
              "    box-shadow: none;\n",
              "  }\n",
              "\n",
              "  .colab-df-spinner {\n",
              "    border: 2px solid var(--fill-color);\n",
              "    border-color: transparent;\n",
              "    border-bottom-color: var(--fill-color);\n",
              "    animation:\n",
              "      spin 1s steps(1) infinite;\n",
              "  }\n",
              "\n",
              "  @keyframes spin {\n",
              "    0% {\n",
              "      border-color: transparent;\n",
              "      border-bottom-color: var(--fill-color);\n",
              "      border-left-color: var(--fill-color);\n",
              "    }\n",
              "    20% {\n",
              "      border-color: transparent;\n",
              "      border-left-color: var(--fill-color);\n",
              "      border-top-color: var(--fill-color);\n",
              "    }\n",
              "    30% {\n",
              "      border-color: transparent;\n",
              "      border-left-color: var(--fill-color);\n",
              "      border-top-color: var(--fill-color);\n",
              "      border-right-color: var(--fill-color);\n",
              "    }\n",
              "    40% {\n",
              "      border-color: transparent;\n",
              "      border-right-color: var(--fill-color);\n",
              "      border-top-color: var(--fill-color);\n",
              "    }\n",
              "    60% {\n",
              "      border-color: transparent;\n",
              "      border-right-color: var(--fill-color);\n",
              "    }\n",
              "    80% {\n",
              "      border-color: transparent;\n",
              "      border-right-color: var(--fill-color);\n",
              "      border-bottom-color: var(--fill-color);\n",
              "    }\n",
              "    90% {\n",
              "      border-color: transparent;\n",
              "      border-bottom-color: var(--fill-color);\n",
              "    }\n",
              "  }\n",
              "</style>\n",
              "\n",
              "  <script>\n",
              "    async function quickchart(key) {\n",
              "      const quickchartButtonEl =\n",
              "        document.querySelector('#' + key + ' button');\n",
              "      quickchartButtonEl.disabled = true;  // To prevent multiple clicks.\n",
              "      quickchartButtonEl.classList.add('colab-df-spinner');\n",
              "      try {\n",
              "        const charts = await google.colab.kernel.invokeFunction(\n",
              "            'suggestCharts', [key], {});\n",
              "      } catch (error) {\n",
              "        console.error('Error during call to suggestCharts:', error);\n",
              "      }\n",
              "      quickchartButtonEl.classList.remove('colab-df-spinner');\n",
              "      quickchartButtonEl.classList.add('colab-df-quickchart-complete');\n",
              "    }\n",
              "    (() => {\n",
              "      let quickchartButtonEl =\n",
              "        document.querySelector('#df-4680647e-902b-4fcb-89b7-525d12897c36 button');\n",
              "      quickchartButtonEl.style.display =\n",
              "        google.colab.kernel.accessAllowed ? 'block' : 'none';\n",
              "    })();\n",
              "  </script>\n",
              "</div>\n",
              "\n",
              "    </div>\n",
              "  </div>\n"
            ],
            "application/vnd.google.colaboratory.intrinsic+json": {
              "type": "dataframe",
              "summary": "{\n  \"name\": \"teams\",\n  \"rows\": 4,\n  \"fields\": [\n    {\n      \"column\": \"TEAM_NAME\",\n      \"properties\": {\n        \"dtype\": \"string\",\n        \"num_unique_values\": 4,\n        \"samples\": [\n          \"Villarreal CF\",\n          \"Qaraba\\u011f FK\",\n          \"FK Krasnodar\"\n        ],\n        \"semantic_type\": \"\",\n        \"description\": \"\"\n      }\n    },\n    {\n      \"column\": \"COUNTRY\",\n      \"properties\": {\n        \"dtype\": \"string\",\n        \"num_unique_values\": 4,\n        \"samples\": [\n          \"Spain\",\n          \"Azerbaijan\",\n          \"Russia\"\n        ],\n        \"semantic_type\": \"\",\n        \"description\": \"\"\n      }\n    },\n    {\n      \"column\": \"HOME_STADIUM\",\n      \"properties\": {\n        \"dtype\": \"string\",\n        \"num_unique_values\": 4,\n        \"samples\": [\n          \"Estadio de la Cer\\u00e1mica\",\n          \"Qaraba\\u011f Stadium\",\n          \"Krasnodar Stadium\"\n        ],\n        \"semantic_type\": \"\",\n        \"description\": \"\"\n      }\n    }\n  ]\n}"
            }
          },
          "metadata": {},
          "execution_count": 48
        }
      ]
    },
    {
      "cell_type": "markdown",
      "source": [
        "Descobrir a quantidade de linhas e colunas de teams"
      ],
      "metadata": {
        "id": "1AZz4rh_s06U"
      }
    },
    {
      "cell_type": "code",
      "source": [
        "linhas, colunas = teams.shape\n",
        "print(f'O banco de dados possui {linhas} linhas e {colunas} colunas')"
      ],
      "metadata": {
        "colab": {
          "base_uri": "https://localhost:8080/"
        },
        "id": "YpYxDs7ZsKsJ",
        "outputId": "aac8785b-de36-48d4-dfdf-87a7c9762948"
      },
      "execution_count": null,
      "outputs": [
        {
          "output_type": "stream",
          "name": "stdout",
          "text": [
            "O banco de dados possui 74 linhas e 3 colunas\n"
          ]
        }
      ]
    },
    {
      "cell_type": "markdown",
      "source": [
        "Descobrir os nomes das colunas de teams"
      ],
      "metadata": {
        "id": "YgNv1ZXhtGyB"
      }
    },
    {
      "cell_type": "code",
      "source": [
        "teams.columns"
      ],
      "metadata": {
        "colab": {
          "base_uri": "https://localhost:8080/"
        },
        "id": "VcbauaMms81Z",
        "outputId": "6abfde6d-19e1-4257-ab88-f2a0e0414537"
      },
      "execution_count": null,
      "outputs": [
        {
          "output_type": "execute_result",
          "data": {
            "text/plain": [
              "Index(['TEAM_NAME', 'COUNTRY', 'HOME_STADIUM'], dtype='object')"
            ]
          },
          "metadata": {},
          "execution_count": 50
        }
      ]
    },
    {
      "cell_type": "markdown",
      "source": [
        "Informações do tipo de dados de cada coluna"
      ],
      "metadata": {
        "id": "bsizlkMctOXp"
      }
    },
    {
      "cell_type": "code",
      "source": [
        "teams.info()"
      ],
      "metadata": {
        "colab": {
          "base_uri": "https://localhost:8080/"
        },
        "id": "wmwBuo66sRZ-",
        "outputId": "dacff785-b339-4dae-fb37-bddbc0ade2d7"
      },
      "execution_count": null,
      "outputs": [
        {
          "output_type": "stream",
          "name": "stdout",
          "text": [
            "<class 'pandas.core.frame.DataFrame'>\n",
            "RangeIndex: 74 entries, 0 to 73\n",
            "Data columns (total 3 columns):\n",
            " #   Column        Non-Null Count  Dtype \n",
            "---  ------        --------------  ----- \n",
            " 0   TEAM_NAME     74 non-null     object\n",
            " 1   COUNTRY       74 non-null     object\n",
            " 2   HOME_STADIUM  74 non-null     object\n",
            "dtypes: object(3)\n",
            "memory usage: 1.9+ KB\n"
          ]
        }
      ]
    },
    {
      "cell_type": "markdown",
      "source": [
        "Analisar se possui dados duplicados"
      ],
      "metadata": {
        "id": "3Ts652m8tTeI"
      }
    },
    {
      "cell_type": "code",
      "source": [
        "teams.duplicated().sum()"
      ],
      "metadata": {
        "colab": {
          "base_uri": "https://localhost:8080/"
        },
        "id": "eTbRPuPzsjPj",
        "outputId": "7701a5c1-ac50-4f6a-aa9d-1c357c5aba1b"
      },
      "execution_count": null,
      "outputs": [
        {
          "output_type": "execute_result",
          "data": {
            "text/plain": [
              "0"
            ]
          },
          "metadata": {},
          "execution_count": 52
        }
      ]
    },
    {
      "cell_type": "markdown",
      "source": [
        "Analisar se possui dados vazios"
      ],
      "metadata": {
        "id": "1l7zojkxtVTi"
      }
    },
    {
      "cell_type": "code",
      "source": [
        "teams.isnull().sum()"
      ],
      "metadata": {
        "colab": {
          "base_uri": "https://localhost:8080/",
          "height": 178
        },
        "id": "y97mIdlRsnVM",
        "outputId": "518e87ad-bbc1-4153-8256-065c06602451"
      },
      "execution_count": null,
      "outputs": [
        {
          "output_type": "execute_result",
          "data": {
            "text/plain": [
              "TEAM_NAME       0\n",
              "COUNTRY         0\n",
              "HOME_STADIUM    0\n",
              "dtype: int64"
            ],
            "text/html": [
              "<div>\n",
              "<style scoped>\n",
              "    .dataframe tbody tr th:only-of-type {\n",
              "        vertical-align: middle;\n",
              "    }\n",
              "\n",
              "    .dataframe tbody tr th {\n",
              "        vertical-align: top;\n",
              "    }\n",
              "\n",
              "    .dataframe thead th {\n",
              "        text-align: right;\n",
              "    }\n",
              "</style>\n",
              "<table border=\"1\" class=\"dataframe\">\n",
              "  <thead>\n",
              "    <tr style=\"text-align: right;\">\n",
              "      <th></th>\n",
              "      <th>0</th>\n",
              "    </tr>\n",
              "  </thead>\n",
              "  <tbody>\n",
              "    <tr>\n",
              "      <th>TEAM_NAME</th>\n",
              "      <td>0</td>\n",
              "    </tr>\n",
              "    <tr>\n",
              "      <th>COUNTRY</th>\n",
              "      <td>0</td>\n",
              "    </tr>\n",
              "    <tr>\n",
              "      <th>HOME_STADIUM</th>\n",
              "      <td>0</td>\n",
              "    </tr>\n",
              "  </tbody>\n",
              "</table>\n",
              "</div><br><label><b>dtype:</b> int64</label>"
            ]
          },
          "metadata": {},
          "execution_count": 53
        }
      ]
    },
    {
      "cell_type": "markdown",
      "source": [
        "Mostrar 4 linhas de stadiums"
      ],
      "metadata": {
        "id": "Jn_Je-VWuCTh"
      }
    },
    {
      "cell_type": "code",
      "source": [
        "stadiums.sample(4)"
      ],
      "metadata": {
        "colab": {
          "base_uri": "https://localhost:8080/",
          "height": 175
        },
        "id": "HvOD6VwrssPW",
        "outputId": "91788a6e-427d-4cd4-f35e-43c35d028c67"
      },
      "execution_count": null,
      "outputs": [
        {
          "output_type": "execute_result",
          "data": {
            "text/plain": [
              "              NAME        CITY   COUNTRY  CAPACITY\n",
              "48    Nef Stadyumu    Istanbul    Turkey     52280\n",
              "67     Celtic Park     Glasgow  Scotland     60832\n",
              "38       RŽD-Arena      Moskva    Russia     27320\n",
              "18  Etihad Stadium  Manchester   England     55097"
            ],
            "text/html": [
              "\n",
              "  <div id=\"df-c00fce20-f74c-45f1-8ef6-28f5eb2d2bfb\" class=\"colab-df-container\">\n",
              "    <div>\n",
              "<style scoped>\n",
              "    .dataframe tbody tr th:only-of-type {\n",
              "        vertical-align: middle;\n",
              "    }\n",
              "\n",
              "    .dataframe tbody tr th {\n",
              "        vertical-align: top;\n",
              "    }\n",
              "\n",
              "    .dataframe thead th {\n",
              "        text-align: right;\n",
              "    }\n",
              "</style>\n",
              "<table border=\"1\" class=\"dataframe\">\n",
              "  <thead>\n",
              "    <tr style=\"text-align: right;\">\n",
              "      <th></th>\n",
              "      <th>NAME</th>\n",
              "      <th>CITY</th>\n",
              "      <th>COUNTRY</th>\n",
              "      <th>CAPACITY</th>\n",
              "    </tr>\n",
              "  </thead>\n",
              "  <tbody>\n",
              "    <tr>\n",
              "      <th>48</th>\n",
              "      <td>Nef Stadyumu</td>\n",
              "      <td>Istanbul</td>\n",
              "      <td>Turkey</td>\n",
              "      <td>52280</td>\n",
              "    </tr>\n",
              "    <tr>\n",
              "      <th>67</th>\n",
              "      <td>Celtic Park</td>\n",
              "      <td>Glasgow</td>\n",
              "      <td>Scotland</td>\n",
              "      <td>60832</td>\n",
              "    </tr>\n",
              "    <tr>\n",
              "      <th>38</th>\n",
              "      <td>RŽD-Arena</td>\n",
              "      <td>Moskva</td>\n",
              "      <td>Russia</td>\n",
              "      <td>27320</td>\n",
              "    </tr>\n",
              "    <tr>\n",
              "      <th>18</th>\n",
              "      <td>Etihad Stadium</td>\n",
              "      <td>Manchester</td>\n",
              "      <td>England</td>\n",
              "      <td>55097</td>\n",
              "    </tr>\n",
              "  </tbody>\n",
              "</table>\n",
              "</div>\n",
              "    <div class=\"colab-df-buttons\">\n",
              "\n",
              "  <div class=\"colab-df-container\">\n",
              "    <button class=\"colab-df-convert\" onclick=\"convertToInteractive('df-c00fce20-f74c-45f1-8ef6-28f5eb2d2bfb')\"\n",
              "            title=\"Convert this dataframe to an interactive table.\"\n",
              "            style=\"display:none;\">\n",
              "\n",
              "  <svg xmlns=\"http://www.w3.org/2000/svg\" height=\"24px\" viewBox=\"0 -960 960 960\">\n",
              "    <path d=\"M120-120v-720h720v720H120Zm60-500h600v-160H180v160Zm220 220h160v-160H400v160Zm0 220h160v-160H400v160ZM180-400h160v-160H180v160Zm440 0h160v-160H620v160ZM180-180h160v-160H180v160Zm440 0h160v-160H620v160Z\"/>\n",
              "  </svg>\n",
              "    </button>\n",
              "\n",
              "  <style>\n",
              "    .colab-df-container {\n",
              "      display:flex;\n",
              "      gap: 12px;\n",
              "    }\n",
              "\n",
              "    .colab-df-convert {\n",
              "      background-color: #E8F0FE;\n",
              "      border: none;\n",
              "      border-radius: 50%;\n",
              "      cursor: pointer;\n",
              "      display: none;\n",
              "      fill: #1967D2;\n",
              "      height: 32px;\n",
              "      padding: 0 0 0 0;\n",
              "      width: 32px;\n",
              "    }\n",
              "\n",
              "    .colab-df-convert:hover {\n",
              "      background-color: #E2EBFA;\n",
              "      box-shadow: 0px 1px 2px rgba(60, 64, 67, 0.3), 0px 1px 3px 1px rgba(60, 64, 67, 0.15);\n",
              "      fill: #174EA6;\n",
              "    }\n",
              "\n",
              "    .colab-df-buttons div {\n",
              "      margin-bottom: 4px;\n",
              "    }\n",
              "\n",
              "    [theme=dark] .colab-df-convert {\n",
              "      background-color: #3B4455;\n",
              "      fill: #D2E3FC;\n",
              "    }\n",
              "\n",
              "    [theme=dark] .colab-df-convert:hover {\n",
              "      background-color: #434B5C;\n",
              "      box-shadow: 0px 1px 3px 1px rgba(0, 0, 0, 0.15);\n",
              "      filter: drop-shadow(0px 1px 2px rgba(0, 0, 0, 0.3));\n",
              "      fill: #FFFFFF;\n",
              "    }\n",
              "  </style>\n",
              "\n",
              "    <script>\n",
              "      const buttonEl =\n",
              "        document.querySelector('#df-c00fce20-f74c-45f1-8ef6-28f5eb2d2bfb button.colab-df-convert');\n",
              "      buttonEl.style.display =\n",
              "        google.colab.kernel.accessAllowed ? 'block' : 'none';\n",
              "\n",
              "      async function convertToInteractive(key) {\n",
              "        const element = document.querySelector('#df-c00fce20-f74c-45f1-8ef6-28f5eb2d2bfb');\n",
              "        const dataTable =\n",
              "          await google.colab.kernel.invokeFunction('convertToInteractive',\n",
              "                                                    [key], {});\n",
              "        if (!dataTable) return;\n",
              "\n",
              "        const docLinkHtml = 'Like what you see? Visit the ' +\n",
              "          '<a target=\"_blank\" href=https://colab.research.google.com/notebooks/data_table.ipynb>data table notebook</a>'\n",
              "          + ' to learn more about interactive tables.';\n",
              "        element.innerHTML = '';\n",
              "        dataTable['output_type'] = 'display_data';\n",
              "        await google.colab.output.renderOutput(dataTable, element);\n",
              "        const docLink = document.createElement('div');\n",
              "        docLink.innerHTML = docLinkHtml;\n",
              "        element.appendChild(docLink);\n",
              "      }\n",
              "    </script>\n",
              "  </div>\n",
              "\n",
              "\n",
              "<div id=\"df-e8fb1235-04f8-43b6-be6c-486a354705a2\">\n",
              "  <button class=\"colab-df-quickchart\" onclick=\"quickchart('df-e8fb1235-04f8-43b6-be6c-486a354705a2')\"\n",
              "            title=\"Suggest charts\"\n",
              "            style=\"display:none;\">\n",
              "\n",
              "<svg xmlns=\"http://www.w3.org/2000/svg\" height=\"24px\"viewBox=\"0 0 24 24\"\n",
              "     width=\"24px\">\n",
              "    <g>\n",
              "        <path d=\"M19 3H5c-1.1 0-2 .9-2 2v14c0 1.1.9 2 2 2h14c1.1 0 2-.9 2-2V5c0-1.1-.9-2-2-2zM9 17H7v-7h2v7zm4 0h-2V7h2v10zm4 0h-2v-4h2v4z\"/>\n",
              "    </g>\n",
              "</svg>\n",
              "  </button>\n",
              "\n",
              "<style>\n",
              "  .colab-df-quickchart {\n",
              "      --bg-color: #E8F0FE;\n",
              "      --fill-color: #1967D2;\n",
              "      --hover-bg-color: #E2EBFA;\n",
              "      --hover-fill-color: #174EA6;\n",
              "      --disabled-fill-color: #AAA;\n",
              "      --disabled-bg-color: #DDD;\n",
              "  }\n",
              "\n",
              "  [theme=dark] .colab-df-quickchart {\n",
              "      --bg-color: #3B4455;\n",
              "      --fill-color: #D2E3FC;\n",
              "      --hover-bg-color: #434B5C;\n",
              "      --hover-fill-color: #FFFFFF;\n",
              "      --disabled-bg-color: #3B4455;\n",
              "      --disabled-fill-color: #666;\n",
              "  }\n",
              "\n",
              "  .colab-df-quickchart {\n",
              "    background-color: var(--bg-color);\n",
              "    border: none;\n",
              "    border-radius: 50%;\n",
              "    cursor: pointer;\n",
              "    display: none;\n",
              "    fill: var(--fill-color);\n",
              "    height: 32px;\n",
              "    padding: 0;\n",
              "    width: 32px;\n",
              "  }\n",
              "\n",
              "  .colab-df-quickchart:hover {\n",
              "    background-color: var(--hover-bg-color);\n",
              "    box-shadow: 0 1px 2px rgba(60, 64, 67, 0.3), 0 1px 3px 1px rgba(60, 64, 67, 0.15);\n",
              "    fill: var(--button-hover-fill-color);\n",
              "  }\n",
              "\n",
              "  .colab-df-quickchart-complete:disabled,\n",
              "  .colab-df-quickchart-complete:disabled:hover {\n",
              "    background-color: var(--disabled-bg-color);\n",
              "    fill: var(--disabled-fill-color);\n",
              "    box-shadow: none;\n",
              "  }\n",
              "\n",
              "  .colab-df-spinner {\n",
              "    border: 2px solid var(--fill-color);\n",
              "    border-color: transparent;\n",
              "    border-bottom-color: var(--fill-color);\n",
              "    animation:\n",
              "      spin 1s steps(1) infinite;\n",
              "  }\n",
              "\n",
              "  @keyframes spin {\n",
              "    0% {\n",
              "      border-color: transparent;\n",
              "      border-bottom-color: var(--fill-color);\n",
              "      border-left-color: var(--fill-color);\n",
              "    }\n",
              "    20% {\n",
              "      border-color: transparent;\n",
              "      border-left-color: var(--fill-color);\n",
              "      border-top-color: var(--fill-color);\n",
              "    }\n",
              "    30% {\n",
              "      border-color: transparent;\n",
              "      border-left-color: var(--fill-color);\n",
              "      border-top-color: var(--fill-color);\n",
              "      border-right-color: var(--fill-color);\n",
              "    }\n",
              "    40% {\n",
              "      border-color: transparent;\n",
              "      border-right-color: var(--fill-color);\n",
              "      border-top-color: var(--fill-color);\n",
              "    }\n",
              "    60% {\n",
              "      border-color: transparent;\n",
              "      border-right-color: var(--fill-color);\n",
              "    }\n",
              "    80% {\n",
              "      border-color: transparent;\n",
              "      border-right-color: var(--fill-color);\n",
              "      border-bottom-color: var(--fill-color);\n",
              "    }\n",
              "    90% {\n",
              "      border-color: transparent;\n",
              "      border-bottom-color: var(--fill-color);\n",
              "    }\n",
              "  }\n",
              "</style>\n",
              "\n",
              "  <script>\n",
              "    async function quickchart(key) {\n",
              "      const quickchartButtonEl =\n",
              "        document.querySelector('#' + key + ' button');\n",
              "      quickchartButtonEl.disabled = true;  // To prevent multiple clicks.\n",
              "      quickchartButtonEl.classList.add('colab-df-spinner');\n",
              "      try {\n",
              "        const charts = await google.colab.kernel.invokeFunction(\n",
              "            'suggestCharts', [key], {});\n",
              "      } catch (error) {\n",
              "        console.error('Error during call to suggestCharts:', error);\n",
              "      }\n",
              "      quickchartButtonEl.classList.remove('colab-df-spinner');\n",
              "      quickchartButtonEl.classList.add('colab-df-quickchart-complete');\n",
              "    }\n",
              "    (() => {\n",
              "      let quickchartButtonEl =\n",
              "        document.querySelector('#df-e8fb1235-04f8-43b6-be6c-486a354705a2 button');\n",
              "      quickchartButtonEl.style.display =\n",
              "        google.colab.kernel.accessAllowed ? 'block' : 'none';\n",
              "    })();\n",
              "  </script>\n",
              "</div>\n",
              "\n",
              "    </div>\n",
              "  </div>\n"
            ],
            "application/vnd.google.colaboratory.intrinsic+json": {
              "type": "dataframe",
              "summary": "{\n  \"name\": \"stadiums\",\n  \"rows\": 4,\n  \"fields\": [\n    {\n      \"column\": \"NAME\",\n      \"properties\": {\n        \"dtype\": \"string\",\n        \"num_unique_values\": 4,\n        \"samples\": [\n          \"Celtic Park\",\n          \"Etihad Stadium\",\n          \"Nef Stadyumu\"\n        ],\n        \"semantic_type\": \"\",\n        \"description\": \"\"\n      }\n    },\n    {\n      \"column\": \"CITY\",\n      \"properties\": {\n        \"dtype\": \"string\",\n        \"num_unique_values\": 4,\n        \"samples\": [\n          \"Glasgow\",\n          \"Manchester\",\n          \"Istanbul\"\n        ],\n        \"semantic_type\": \"\",\n        \"description\": \"\"\n      }\n    },\n    {\n      \"column\": \"COUNTRY\",\n      \"properties\": {\n        \"dtype\": \"string\",\n        \"num_unique_values\": 4,\n        \"samples\": [\n          \"Scotland\",\n          \"England\",\n          \"Turkey\"\n        ],\n        \"semantic_type\": \"\",\n        \"description\": \"\"\n      }\n    },\n    {\n      \"column\": \"CAPACITY\",\n      \"properties\": {\n        \"dtype\": \"number\",\n        \"std\": 14808,\n        \"min\": 27320,\n        \"max\": 60832,\n        \"num_unique_values\": 4,\n        \"samples\": [\n          60832,\n          55097,\n          52280\n        ],\n        \"semantic_type\": \"\",\n        \"description\": \"\"\n      }\n    }\n  ]\n}"
            }
          },
          "metadata": {},
          "execution_count": 54
        }
      ]
    },
    {
      "cell_type": "markdown",
      "source": [
        "Descobrir a quantidade de linhas e colunas de stadiums"
      ],
      "metadata": {
        "id": "Odn_sKWCuG5F"
      }
    },
    {
      "cell_type": "code",
      "source": [
        "linhas, colunas = stadiums.shape\n",
        "print(f'O banco de dados possui {linhas} linhas e {colunas} colunas')"
      ],
      "metadata": {
        "colab": {
          "base_uri": "https://localhost:8080/"
        },
        "id": "L5Wkig6NuJEf",
        "outputId": "e6528436-8338-43f9-a76d-bc7d57bf3f80"
      },
      "execution_count": null,
      "outputs": [
        {
          "output_type": "stream",
          "name": "stdout",
          "text": [
            "O banco de dados possui 86 linhas e 4 colunas\n"
          ]
        }
      ]
    },
    {
      "cell_type": "markdown",
      "source": [
        "Descobrir os nomes das colunas de stadiums"
      ],
      "metadata": {
        "id": "42lHjx3rucjV"
      }
    },
    {
      "cell_type": "code",
      "source": [
        "stadiums.columns"
      ],
      "metadata": {
        "colab": {
          "base_uri": "https://localhost:8080/"
        },
        "id": "t4N6A_MIucTL",
        "outputId": "9dda9321-9d2c-46e1-8a3c-e5a107d329d0"
      },
      "execution_count": null,
      "outputs": [
        {
          "output_type": "execute_result",
          "data": {
            "text/plain": [
              "Index(['NAME', 'CITY', 'COUNTRY', 'CAPACITY'], dtype='object')"
            ]
          },
          "metadata": {},
          "execution_count": 56
        }
      ]
    },
    {
      "cell_type": "markdown",
      "source": [
        "Informações do tipo de dados de cada coluna"
      ],
      "metadata": {
        "id": "YQhpMDNQuj01"
      }
    },
    {
      "cell_type": "code",
      "source": [
        "stadiums.info()"
      ],
      "metadata": {
        "colab": {
          "base_uri": "https://localhost:8080/"
        },
        "id": "H9geXqegum-A",
        "outputId": "f5ba5d5f-098d-4cd2-dd73-6545b0926406"
      },
      "execution_count": null,
      "outputs": [
        {
          "output_type": "stream",
          "name": "stdout",
          "text": [
            "<class 'pandas.core.frame.DataFrame'>\n",
            "RangeIndex: 86 entries, 0 to 85\n",
            "Data columns (total 4 columns):\n",
            " #   Column    Non-Null Count  Dtype \n",
            "---  ------    --------------  ----- \n",
            " 0   NAME      86 non-null     object\n",
            " 1   CITY      86 non-null     object\n",
            " 2   COUNTRY   86 non-null     object\n",
            " 3   CAPACITY  86 non-null     int64 \n",
            "dtypes: int64(1), object(3)\n",
            "memory usage: 2.8+ KB\n"
          ]
        }
      ]
    },
    {
      "cell_type": "markdown",
      "source": [
        "Analisar se possui dados duplicados"
      ],
      "metadata": {
        "id": "EG_S7Rs3utJt"
      }
    },
    {
      "cell_type": "code",
      "source": [
        "stadiums.duplicated().sum()"
      ],
      "metadata": {
        "colab": {
          "base_uri": "https://localhost:8080/"
        },
        "id": "zB_l4fXZuvKY",
        "outputId": "d57f0815-d768-4ff0-e46c-feba45b1f128"
      },
      "execution_count": null,
      "outputs": [
        {
          "output_type": "execute_result",
          "data": {
            "text/plain": [
              "0"
            ]
          },
          "metadata": {},
          "execution_count": 58
        }
      ]
    },
    {
      "cell_type": "markdown",
      "source": [
        "Analisar se possui dados vazios"
      ],
      "metadata": {
        "id": "BWjQDbXCuyot"
      }
    },
    {
      "cell_type": "code",
      "source": [
        "stadiums.isnull().sum()"
      ],
      "metadata": {
        "colab": {
          "base_uri": "https://localhost:8080/",
          "height": 210
        },
        "id": "hd9TWVk3uxGV",
        "outputId": "67209a10-69bb-4c76-a6dc-c78bb48ce3f2"
      },
      "execution_count": null,
      "outputs": [
        {
          "output_type": "execute_result",
          "data": {
            "text/plain": [
              "NAME        0\n",
              "CITY        0\n",
              "COUNTRY     0\n",
              "CAPACITY    0\n",
              "dtype: int64"
            ],
            "text/html": [
              "<div>\n",
              "<style scoped>\n",
              "    .dataframe tbody tr th:only-of-type {\n",
              "        vertical-align: middle;\n",
              "    }\n",
              "\n",
              "    .dataframe tbody tr th {\n",
              "        vertical-align: top;\n",
              "    }\n",
              "\n",
              "    .dataframe thead th {\n",
              "        text-align: right;\n",
              "    }\n",
              "</style>\n",
              "<table border=\"1\" class=\"dataframe\">\n",
              "  <thead>\n",
              "    <tr style=\"text-align: right;\">\n",
              "      <th></th>\n",
              "      <th>0</th>\n",
              "    </tr>\n",
              "  </thead>\n",
              "  <tbody>\n",
              "    <tr>\n",
              "      <th>NAME</th>\n",
              "      <td>0</td>\n",
              "    </tr>\n",
              "    <tr>\n",
              "      <th>CITY</th>\n",
              "      <td>0</td>\n",
              "    </tr>\n",
              "    <tr>\n",
              "      <th>COUNTRY</th>\n",
              "      <td>0</td>\n",
              "    </tr>\n",
              "    <tr>\n",
              "      <th>CAPACITY</th>\n",
              "      <td>0</td>\n",
              "    </tr>\n",
              "  </tbody>\n",
              "</table>\n",
              "</div><br><label><b>dtype:</b> int64</label>"
            ]
          },
          "metadata": {},
          "execution_count": 59
        }
      ]
    },
    {
      "cell_type": "markdown",
      "source": [
        "Mostrar 4 linhas de players"
      ],
      "metadata": {
        "id": "ycJVrAOKu-z8"
      }
    },
    {
      "cell_type": "code",
      "source": [
        "players.sample(4)"
      ],
      "metadata": {
        "colab": {
          "base_uri": "https://localhost:8080/",
          "height": 175
        },
        "id": "iSxG2T4Gu_P4",
        "outputId": "0334e2d9-eeca-4bd0-d6f2-8d04f7666a55"
      },
      "execution_count": null,
      "outputs": [
        {
          "output_type": "execute_result",
          "data": {
            "text/plain": [
              "     PLAYER_ID FIRST_NAME LAST_NAME NATIONALITY        DOB              TEAM  \\\n",
              "2137   ply1813    Charlie     Pérez       Spain 2002-06-07       Valencia CF   \n",
              "884     ply885      Neven   Đurasek     Croatia 1998-08-15  Shakhtar Donetsk   \n",
              "956     ply957     Arthur     Gomes      Brazil 1998-07-03       Sporting CP   \n",
              "1913   ply1589    Ibrahim  Mustapha       Ghana 2000-06-18     Crvena Zvezda   \n",
              "\n",
              "      JERSEY_NUMBER    POSITION  HEIGHT  WEIGHT FOOT  \n",
              "2137           26.0  Goalkeeper     NaN     NaN  NaN  \n",
              "884            17.0  Midfielder   180.0    74.0    R  \n",
              "956            33.0     Forward   174.0    68.0    R  \n",
              "1913           18.0     Forward   180.0     NaN    R  "
            ],
            "text/html": [
              "\n",
              "  <div id=\"df-a731935b-976a-452b-a98e-37b926043385\" class=\"colab-df-container\">\n",
              "    <div>\n",
              "<style scoped>\n",
              "    .dataframe tbody tr th:only-of-type {\n",
              "        vertical-align: middle;\n",
              "    }\n",
              "\n",
              "    .dataframe tbody tr th {\n",
              "        vertical-align: top;\n",
              "    }\n",
              "\n",
              "    .dataframe thead th {\n",
              "        text-align: right;\n",
              "    }\n",
              "</style>\n",
              "<table border=\"1\" class=\"dataframe\">\n",
              "  <thead>\n",
              "    <tr style=\"text-align: right;\">\n",
              "      <th></th>\n",
              "      <th>PLAYER_ID</th>\n",
              "      <th>FIRST_NAME</th>\n",
              "      <th>LAST_NAME</th>\n",
              "      <th>NATIONALITY</th>\n",
              "      <th>DOB</th>\n",
              "      <th>TEAM</th>\n",
              "      <th>JERSEY_NUMBER</th>\n",
              "      <th>POSITION</th>\n",
              "      <th>HEIGHT</th>\n",
              "      <th>WEIGHT</th>\n",
              "      <th>FOOT</th>\n",
              "    </tr>\n",
              "  </thead>\n",
              "  <tbody>\n",
              "    <tr>\n",
              "      <th>2137</th>\n",
              "      <td>ply1813</td>\n",
              "      <td>Charlie</td>\n",
              "      <td>Pérez</td>\n",
              "      <td>Spain</td>\n",
              "      <td>2002-06-07</td>\n",
              "      <td>Valencia CF</td>\n",
              "      <td>26.0</td>\n",
              "      <td>Goalkeeper</td>\n",
              "      <td>NaN</td>\n",
              "      <td>NaN</td>\n",
              "      <td>NaN</td>\n",
              "    </tr>\n",
              "    <tr>\n",
              "      <th>884</th>\n",
              "      <td>ply885</td>\n",
              "      <td>Neven</td>\n",
              "      <td>Đurasek</td>\n",
              "      <td>Croatia</td>\n",
              "      <td>1998-08-15</td>\n",
              "      <td>Shakhtar Donetsk</td>\n",
              "      <td>17.0</td>\n",
              "      <td>Midfielder</td>\n",
              "      <td>180.0</td>\n",
              "      <td>74.0</td>\n",
              "      <td>R</td>\n",
              "    </tr>\n",
              "    <tr>\n",
              "      <th>956</th>\n",
              "      <td>ply957</td>\n",
              "      <td>Arthur</td>\n",
              "      <td>Gomes</td>\n",
              "      <td>Brazil</td>\n",
              "      <td>1998-07-03</td>\n",
              "      <td>Sporting CP</td>\n",
              "      <td>33.0</td>\n",
              "      <td>Forward</td>\n",
              "      <td>174.0</td>\n",
              "      <td>68.0</td>\n",
              "      <td>R</td>\n",
              "    </tr>\n",
              "    <tr>\n",
              "      <th>1913</th>\n",
              "      <td>ply1589</td>\n",
              "      <td>Ibrahim</td>\n",
              "      <td>Mustapha</td>\n",
              "      <td>Ghana</td>\n",
              "      <td>2000-06-18</td>\n",
              "      <td>Crvena Zvezda</td>\n",
              "      <td>18.0</td>\n",
              "      <td>Forward</td>\n",
              "      <td>180.0</td>\n",
              "      <td>NaN</td>\n",
              "      <td>R</td>\n",
              "    </tr>\n",
              "  </tbody>\n",
              "</table>\n",
              "</div>\n",
              "    <div class=\"colab-df-buttons\">\n",
              "\n",
              "  <div class=\"colab-df-container\">\n",
              "    <button class=\"colab-df-convert\" onclick=\"convertToInteractive('df-a731935b-976a-452b-a98e-37b926043385')\"\n",
              "            title=\"Convert this dataframe to an interactive table.\"\n",
              "            style=\"display:none;\">\n",
              "\n",
              "  <svg xmlns=\"http://www.w3.org/2000/svg\" height=\"24px\" viewBox=\"0 -960 960 960\">\n",
              "    <path d=\"M120-120v-720h720v720H120Zm60-500h600v-160H180v160Zm220 220h160v-160H400v160Zm0 220h160v-160H400v160ZM180-400h160v-160H180v160Zm440 0h160v-160H620v160ZM180-180h160v-160H180v160Zm440 0h160v-160H620v160Z\"/>\n",
              "  </svg>\n",
              "    </button>\n",
              "\n",
              "  <style>\n",
              "    .colab-df-container {\n",
              "      display:flex;\n",
              "      gap: 12px;\n",
              "    }\n",
              "\n",
              "    .colab-df-convert {\n",
              "      background-color: #E8F0FE;\n",
              "      border: none;\n",
              "      border-radius: 50%;\n",
              "      cursor: pointer;\n",
              "      display: none;\n",
              "      fill: #1967D2;\n",
              "      height: 32px;\n",
              "      padding: 0 0 0 0;\n",
              "      width: 32px;\n",
              "    }\n",
              "\n",
              "    .colab-df-convert:hover {\n",
              "      background-color: #E2EBFA;\n",
              "      box-shadow: 0px 1px 2px rgba(60, 64, 67, 0.3), 0px 1px 3px 1px rgba(60, 64, 67, 0.15);\n",
              "      fill: #174EA6;\n",
              "    }\n",
              "\n",
              "    .colab-df-buttons div {\n",
              "      margin-bottom: 4px;\n",
              "    }\n",
              "\n",
              "    [theme=dark] .colab-df-convert {\n",
              "      background-color: #3B4455;\n",
              "      fill: #D2E3FC;\n",
              "    }\n",
              "\n",
              "    [theme=dark] .colab-df-convert:hover {\n",
              "      background-color: #434B5C;\n",
              "      box-shadow: 0px 1px 3px 1px rgba(0, 0, 0, 0.15);\n",
              "      filter: drop-shadow(0px 1px 2px rgba(0, 0, 0, 0.3));\n",
              "      fill: #FFFFFF;\n",
              "    }\n",
              "  </style>\n",
              "\n",
              "    <script>\n",
              "      const buttonEl =\n",
              "        document.querySelector('#df-a731935b-976a-452b-a98e-37b926043385 button.colab-df-convert');\n",
              "      buttonEl.style.display =\n",
              "        google.colab.kernel.accessAllowed ? 'block' : 'none';\n",
              "\n",
              "      async function convertToInteractive(key) {\n",
              "        const element = document.querySelector('#df-a731935b-976a-452b-a98e-37b926043385');\n",
              "        const dataTable =\n",
              "          await google.colab.kernel.invokeFunction('convertToInteractive',\n",
              "                                                    [key], {});\n",
              "        if (!dataTable) return;\n",
              "\n",
              "        const docLinkHtml = 'Like what you see? Visit the ' +\n",
              "          '<a target=\"_blank\" href=https://colab.research.google.com/notebooks/data_table.ipynb>data table notebook</a>'\n",
              "          + ' to learn more about interactive tables.';\n",
              "        element.innerHTML = '';\n",
              "        dataTable['output_type'] = 'display_data';\n",
              "        await google.colab.output.renderOutput(dataTable, element);\n",
              "        const docLink = document.createElement('div');\n",
              "        docLink.innerHTML = docLinkHtml;\n",
              "        element.appendChild(docLink);\n",
              "      }\n",
              "    </script>\n",
              "  </div>\n",
              "\n",
              "\n",
              "<div id=\"df-ef604879-3053-4557-9cb1-49366d47887d\">\n",
              "  <button class=\"colab-df-quickchart\" onclick=\"quickchart('df-ef604879-3053-4557-9cb1-49366d47887d')\"\n",
              "            title=\"Suggest charts\"\n",
              "            style=\"display:none;\">\n",
              "\n",
              "<svg xmlns=\"http://www.w3.org/2000/svg\" height=\"24px\"viewBox=\"0 0 24 24\"\n",
              "     width=\"24px\">\n",
              "    <g>\n",
              "        <path d=\"M19 3H5c-1.1 0-2 .9-2 2v14c0 1.1.9 2 2 2h14c1.1 0 2-.9 2-2V5c0-1.1-.9-2-2-2zM9 17H7v-7h2v7zm4 0h-2V7h2v10zm4 0h-2v-4h2v4z\"/>\n",
              "    </g>\n",
              "</svg>\n",
              "  </button>\n",
              "\n",
              "<style>\n",
              "  .colab-df-quickchart {\n",
              "      --bg-color: #E8F0FE;\n",
              "      --fill-color: #1967D2;\n",
              "      --hover-bg-color: #E2EBFA;\n",
              "      --hover-fill-color: #174EA6;\n",
              "      --disabled-fill-color: #AAA;\n",
              "      --disabled-bg-color: #DDD;\n",
              "  }\n",
              "\n",
              "  [theme=dark] .colab-df-quickchart {\n",
              "      --bg-color: #3B4455;\n",
              "      --fill-color: #D2E3FC;\n",
              "      --hover-bg-color: #434B5C;\n",
              "      --hover-fill-color: #FFFFFF;\n",
              "      --disabled-bg-color: #3B4455;\n",
              "      --disabled-fill-color: #666;\n",
              "  }\n",
              "\n",
              "  .colab-df-quickchart {\n",
              "    background-color: var(--bg-color);\n",
              "    border: none;\n",
              "    border-radius: 50%;\n",
              "    cursor: pointer;\n",
              "    display: none;\n",
              "    fill: var(--fill-color);\n",
              "    height: 32px;\n",
              "    padding: 0;\n",
              "    width: 32px;\n",
              "  }\n",
              "\n",
              "  .colab-df-quickchart:hover {\n",
              "    background-color: var(--hover-bg-color);\n",
              "    box-shadow: 0 1px 2px rgba(60, 64, 67, 0.3), 0 1px 3px 1px rgba(60, 64, 67, 0.15);\n",
              "    fill: var(--button-hover-fill-color);\n",
              "  }\n",
              "\n",
              "  .colab-df-quickchart-complete:disabled,\n",
              "  .colab-df-quickchart-complete:disabled:hover {\n",
              "    background-color: var(--disabled-bg-color);\n",
              "    fill: var(--disabled-fill-color);\n",
              "    box-shadow: none;\n",
              "  }\n",
              "\n",
              "  .colab-df-spinner {\n",
              "    border: 2px solid var(--fill-color);\n",
              "    border-color: transparent;\n",
              "    border-bottom-color: var(--fill-color);\n",
              "    animation:\n",
              "      spin 1s steps(1) infinite;\n",
              "  }\n",
              "\n",
              "  @keyframes spin {\n",
              "    0% {\n",
              "      border-color: transparent;\n",
              "      border-bottom-color: var(--fill-color);\n",
              "      border-left-color: var(--fill-color);\n",
              "    }\n",
              "    20% {\n",
              "      border-color: transparent;\n",
              "      border-left-color: var(--fill-color);\n",
              "      border-top-color: var(--fill-color);\n",
              "    }\n",
              "    30% {\n",
              "      border-color: transparent;\n",
              "      border-left-color: var(--fill-color);\n",
              "      border-top-color: var(--fill-color);\n",
              "      border-right-color: var(--fill-color);\n",
              "    }\n",
              "    40% {\n",
              "      border-color: transparent;\n",
              "      border-right-color: var(--fill-color);\n",
              "      border-top-color: var(--fill-color);\n",
              "    }\n",
              "    60% {\n",
              "      border-color: transparent;\n",
              "      border-right-color: var(--fill-color);\n",
              "    }\n",
              "    80% {\n",
              "      border-color: transparent;\n",
              "      border-right-color: var(--fill-color);\n",
              "      border-bottom-color: var(--fill-color);\n",
              "    }\n",
              "    90% {\n",
              "      border-color: transparent;\n",
              "      border-bottom-color: var(--fill-color);\n",
              "    }\n",
              "  }\n",
              "</style>\n",
              "\n",
              "  <script>\n",
              "    async function quickchart(key) {\n",
              "      const quickchartButtonEl =\n",
              "        document.querySelector('#' + key + ' button');\n",
              "      quickchartButtonEl.disabled = true;  // To prevent multiple clicks.\n",
              "      quickchartButtonEl.classList.add('colab-df-spinner');\n",
              "      try {\n",
              "        const charts = await google.colab.kernel.invokeFunction(\n",
              "            'suggestCharts', [key], {});\n",
              "      } catch (error) {\n",
              "        console.error('Error during call to suggestCharts:', error);\n",
              "      }\n",
              "      quickchartButtonEl.classList.remove('colab-df-spinner');\n",
              "      quickchartButtonEl.classList.add('colab-df-quickchart-complete');\n",
              "    }\n",
              "    (() => {\n",
              "      let quickchartButtonEl =\n",
              "        document.querySelector('#df-ef604879-3053-4557-9cb1-49366d47887d button');\n",
              "      quickchartButtonEl.style.display =\n",
              "        google.colab.kernel.accessAllowed ? 'block' : 'none';\n",
              "    })();\n",
              "  </script>\n",
              "</div>\n",
              "\n",
              "    </div>\n",
              "  </div>\n"
            ],
            "application/vnd.google.colaboratory.intrinsic+json": {
              "type": "dataframe",
              "summary": "{\n  \"name\": \"players\",\n  \"rows\": 4,\n  \"fields\": [\n    {\n      \"column\": \"PLAYER_ID\",\n      \"properties\": {\n        \"dtype\": \"string\",\n        \"num_unique_values\": 4,\n        \"samples\": [\n          \"ply885\",\n          \"ply1589\",\n          \"ply1813\"\n        ],\n        \"semantic_type\": \"\",\n        \"description\": \"\"\n      }\n    },\n    {\n      \"column\": \"FIRST_NAME\",\n      \"properties\": {\n        \"dtype\": \"string\",\n        \"num_unique_values\": 4,\n        \"samples\": [\n          \"Neven\",\n          \"Ibrahim\",\n          \"Charlie\"\n        ],\n        \"semantic_type\": \"\",\n        \"description\": \"\"\n      }\n    },\n    {\n      \"column\": \"LAST_NAME\",\n      \"properties\": {\n        \"dtype\": \"string\",\n        \"num_unique_values\": 4,\n        \"samples\": [\n          \"\\u0110urasek\",\n          \"Mustapha\",\n          \"P\\u00e9rez\"\n        ],\n        \"semantic_type\": \"\",\n        \"description\": \"\"\n      }\n    },\n    {\n      \"column\": \"NATIONALITY\",\n      \"properties\": {\n        \"dtype\": \"string\",\n        \"num_unique_values\": 4,\n        \"samples\": [\n          \"Croatia\",\n          \"Ghana\",\n          \"Spain\"\n        ],\n        \"semantic_type\": \"\",\n        \"description\": \"\"\n      }\n    },\n    {\n      \"column\": \"DOB\",\n      \"properties\": {\n        \"dtype\": \"date\",\n        \"min\": \"1998-07-03 00:00:00\",\n        \"max\": \"2002-06-07 00:00:00\",\n        \"num_unique_values\": 4,\n        \"samples\": [\n          \"1998-08-15 00:00:00\",\n          \"2000-06-18 00:00:00\",\n          \"2002-06-07 00:00:00\"\n        ],\n        \"semantic_type\": \"\",\n        \"description\": \"\"\n      }\n    },\n    {\n      \"column\": \"TEAM\",\n      \"properties\": {\n        \"dtype\": \"string\",\n        \"num_unique_values\": 4,\n        \"samples\": [\n          \"Shakhtar Donetsk\",\n          \"Crvena Zvezda\",\n          \"Valencia CF\"\n        ],\n        \"semantic_type\": \"\",\n        \"description\": \"\"\n      }\n    },\n    {\n      \"column\": \"JERSEY_NUMBER\",\n      \"properties\": {\n        \"dtype\": \"number\",\n        \"std\": 7.505553499465135,\n        \"min\": 17.0,\n        \"max\": 33.0,\n        \"num_unique_values\": 4,\n        \"samples\": [\n          17.0,\n          18.0,\n          26.0\n        ],\n        \"semantic_type\": \"\",\n        \"description\": \"\"\n      }\n    },\n    {\n      \"column\": \"POSITION\",\n      \"properties\": {\n        \"dtype\": \"string\",\n        \"num_unique_values\": 3,\n        \"samples\": [\n          \"Goalkeeper\",\n          \"Midfielder\",\n          \"Forward\"\n        ],\n        \"semantic_type\": \"\",\n        \"description\": \"\"\n      }\n    },\n    {\n      \"column\": \"HEIGHT\",\n      \"properties\": {\n        \"dtype\": \"number\",\n        \"std\": 3.4641016151377544,\n        \"min\": 174.0,\n        \"max\": 180.0,\n        \"num_unique_values\": 2,\n        \"samples\": [\n          174.0,\n          180.0\n        ],\n        \"semantic_type\": \"\",\n        \"description\": \"\"\n      }\n    },\n    {\n      \"column\": \"WEIGHT\",\n      \"properties\": {\n        \"dtype\": \"number\",\n        \"std\": 4.242640687119285,\n        \"min\": 68.0,\n        \"max\": 74.0,\n        \"num_unique_values\": 2,\n        \"samples\": [\n          68.0,\n          74.0\n        ],\n        \"semantic_type\": \"\",\n        \"description\": \"\"\n      }\n    },\n    {\n      \"column\": \"FOOT\",\n      \"properties\": {\n        \"dtype\": \"category\",\n        \"num_unique_values\": 1,\n        \"samples\": [\n          \"R\"\n        ],\n        \"semantic_type\": \"\",\n        \"description\": \"\"\n      }\n    }\n  ]\n}"
            }
          },
          "metadata": {},
          "execution_count": 60
        }
      ]
    },
    {
      "cell_type": "markdown",
      "source": [
        "Descobrir a quantidade de linhas e colunas de players"
      ],
      "metadata": {
        "id": "FN_MWZylvDgh"
      }
    },
    {
      "cell_type": "code",
      "source": [
        "linhas, colunas = players.shape\n",
        "print(f'O banco de dados possui {linhas} linhas e {colunas} colunas')"
      ],
      "metadata": {
        "colab": {
          "base_uri": "https://localhost:8080/"
        },
        "id": "yPhl1akkvCsy",
        "outputId": "9c65828f-a9d4-42c4-ebfc-55a23bba7d09"
      },
      "execution_count": null,
      "outputs": [
        {
          "output_type": "stream",
          "name": "stdout",
          "text": [
            "O banco de dados possui 2769 linhas e 11 colunas\n"
          ]
        }
      ]
    },
    {
      "cell_type": "markdown",
      "source": [
        "Descobrir os nomes das colunas de players"
      ],
      "metadata": {
        "id": "XJvfWQ3xvMwT"
      }
    },
    {
      "cell_type": "code",
      "source": [
        "players.columns"
      ],
      "metadata": {
        "colab": {
          "base_uri": "https://localhost:8080/"
        },
        "id": "HaHR9crJvONa",
        "outputId": "5203c05c-f955-4953-afd0-e1011ddce146"
      },
      "execution_count": null,
      "outputs": [
        {
          "output_type": "execute_result",
          "data": {
            "text/plain": [
              "Index(['PLAYER_ID', 'FIRST_NAME', 'LAST_NAME', 'NATIONALITY', 'DOB', 'TEAM',\n",
              "       'JERSEY_NUMBER', 'POSITION', 'HEIGHT', 'WEIGHT', 'FOOT'],\n",
              "      dtype='object')"
            ]
          },
          "metadata": {},
          "execution_count": 62
        }
      ]
    },
    {
      "cell_type": "markdown",
      "source": [
        "Informações do tipo de dados de cada coluna"
      ],
      "metadata": {
        "id": "bkD7giW5vRdb"
      }
    },
    {
      "cell_type": "code",
      "source": [
        "players.info()"
      ],
      "metadata": {
        "colab": {
          "base_uri": "https://localhost:8080/"
        },
        "id": "-NC9rX6BvRVJ",
        "outputId": "8d788b86-c500-4665-a081-c4dc0d5470ae"
      },
      "execution_count": null,
      "outputs": [
        {
          "output_type": "stream",
          "name": "stdout",
          "text": [
            "<class 'pandas.core.frame.DataFrame'>\n",
            "RangeIndex: 2769 entries, 0 to 2768\n",
            "Data columns (total 11 columns):\n",
            " #   Column         Non-Null Count  Dtype         \n",
            "---  ------         --------------  -----         \n",
            " 0   PLAYER_ID      2769 non-null   object        \n",
            " 1   FIRST_NAME     2597 non-null   object        \n",
            " 2   LAST_NAME      2769 non-null   object        \n",
            " 3   NATIONALITY    2769 non-null   object        \n",
            " 4   DOB            2755 non-null   datetime64[ns]\n",
            " 5   TEAM           2330 non-null   object        \n",
            " 6   JERSEY_NUMBER  2453 non-null   float64       \n",
            " 7   POSITION       2769 non-null   object        \n",
            " 8   HEIGHT         2546 non-null   float64       \n",
            " 9   WEIGHT         2375 non-null   float64       \n",
            " 10  FOOT           2320 non-null   object        \n",
            "dtypes: datetime64[ns](1), float64(3), object(7)\n",
            "memory usage: 238.1+ KB\n"
          ]
        }
      ]
    },
    {
      "cell_type": "markdown",
      "source": [
        "Analisar se possui dados duplicados"
      ],
      "metadata": {
        "id": "59qdBKRGvoHP"
      }
    },
    {
      "cell_type": "code",
      "source": [
        "players.duplicated().sum()"
      ],
      "metadata": {
        "colab": {
          "base_uri": "https://localhost:8080/"
        },
        "id": "39VR2hSKvqCl",
        "outputId": "3af32f97-22dd-459e-e189-64e0225a14ba"
      },
      "execution_count": null,
      "outputs": [
        {
          "output_type": "execute_result",
          "data": {
            "text/plain": [
              "0"
            ]
          },
          "metadata": {},
          "execution_count": 64
        }
      ]
    },
    {
      "cell_type": "markdown",
      "source": [
        "Analisar se possui dados vazios"
      ],
      "metadata": {
        "id": "tBBJK_Povr8J"
      }
    },
    {
      "cell_type": "code",
      "source": [
        "players.isnull().sum()"
      ],
      "metadata": {
        "colab": {
          "base_uri": "https://localhost:8080/",
          "height": 429
        },
        "id": "fLJCEl1cvu67",
        "outputId": "c79c369b-3126-4eb0-ec3f-a6cca4d0fc0e"
      },
      "execution_count": null,
      "outputs": [
        {
          "output_type": "execute_result",
          "data": {
            "text/plain": [
              "PLAYER_ID          0\n",
              "FIRST_NAME       172\n",
              "LAST_NAME          0\n",
              "NATIONALITY        0\n",
              "DOB               14\n",
              "TEAM             439\n",
              "JERSEY_NUMBER    316\n",
              "POSITION           0\n",
              "HEIGHT           223\n",
              "WEIGHT           394\n",
              "FOOT             449\n",
              "dtype: int64"
            ],
            "text/html": [
              "<div>\n",
              "<style scoped>\n",
              "    .dataframe tbody tr th:only-of-type {\n",
              "        vertical-align: middle;\n",
              "    }\n",
              "\n",
              "    .dataframe tbody tr th {\n",
              "        vertical-align: top;\n",
              "    }\n",
              "\n",
              "    .dataframe thead th {\n",
              "        text-align: right;\n",
              "    }\n",
              "</style>\n",
              "<table border=\"1\" class=\"dataframe\">\n",
              "  <thead>\n",
              "    <tr style=\"text-align: right;\">\n",
              "      <th></th>\n",
              "      <th>0</th>\n",
              "    </tr>\n",
              "  </thead>\n",
              "  <tbody>\n",
              "    <tr>\n",
              "      <th>PLAYER_ID</th>\n",
              "      <td>0</td>\n",
              "    </tr>\n",
              "    <tr>\n",
              "      <th>FIRST_NAME</th>\n",
              "      <td>172</td>\n",
              "    </tr>\n",
              "    <tr>\n",
              "      <th>LAST_NAME</th>\n",
              "      <td>0</td>\n",
              "    </tr>\n",
              "    <tr>\n",
              "      <th>NATIONALITY</th>\n",
              "      <td>0</td>\n",
              "    </tr>\n",
              "    <tr>\n",
              "      <th>DOB</th>\n",
              "      <td>14</td>\n",
              "    </tr>\n",
              "    <tr>\n",
              "      <th>TEAM</th>\n",
              "      <td>439</td>\n",
              "    </tr>\n",
              "    <tr>\n",
              "      <th>JERSEY_NUMBER</th>\n",
              "      <td>316</td>\n",
              "    </tr>\n",
              "    <tr>\n",
              "      <th>POSITION</th>\n",
              "      <td>0</td>\n",
              "    </tr>\n",
              "    <tr>\n",
              "      <th>HEIGHT</th>\n",
              "      <td>223</td>\n",
              "    </tr>\n",
              "    <tr>\n",
              "      <th>WEIGHT</th>\n",
              "      <td>394</td>\n",
              "    </tr>\n",
              "    <tr>\n",
              "      <th>FOOT</th>\n",
              "      <td>449</td>\n",
              "    </tr>\n",
              "  </tbody>\n",
              "</table>\n",
              "</div><br><label><b>dtype:</b> int64</label>"
            ]
          },
          "metadata": {},
          "execution_count": 65
        }
      ]
    },
    {
      "cell_type": "markdown",
      "source": [
        "Remover todas as linhas onde o nome do time esta vazio. Não é importante para a analise dados de jogadores que não foi apoontado o time em qual atua ou atuava."
      ],
      "metadata": {
        "id": "CMzS5v23wA1p"
      }
    },
    {
      "cell_type": "code",
      "source": [
        "players = players.dropna(subset=['TEAM'])\n",
        "players.isnull().sum()"
      ],
      "metadata": {
        "colab": {
          "base_uri": "https://localhost:8080/",
          "height": 429
        },
        "id": "5CAEtjsSwRTf",
        "outputId": "85242d95-0e69-4950-b3ab-e93b61c0467e"
      },
      "execution_count": null,
      "outputs": [
        {
          "output_type": "execute_result",
          "data": {
            "text/plain": [
              "PLAYER_ID          0\n",
              "FIRST_NAME       128\n",
              "LAST_NAME          0\n",
              "NATIONALITY        0\n",
              "DOB               14\n",
              "TEAM               0\n",
              "JERSEY_NUMBER    259\n",
              "POSITION           0\n",
              "HEIGHT           219\n",
              "WEIGHT           378\n",
              "FOOT             408\n",
              "dtype: int64"
            ],
            "text/html": [
              "<div>\n",
              "<style scoped>\n",
              "    .dataframe tbody tr th:only-of-type {\n",
              "        vertical-align: middle;\n",
              "    }\n",
              "\n",
              "    .dataframe tbody tr th {\n",
              "        vertical-align: top;\n",
              "    }\n",
              "\n",
              "    .dataframe thead th {\n",
              "        text-align: right;\n",
              "    }\n",
              "</style>\n",
              "<table border=\"1\" class=\"dataframe\">\n",
              "  <thead>\n",
              "    <tr style=\"text-align: right;\">\n",
              "      <th></th>\n",
              "      <th>0</th>\n",
              "    </tr>\n",
              "  </thead>\n",
              "  <tbody>\n",
              "    <tr>\n",
              "      <th>PLAYER_ID</th>\n",
              "      <td>0</td>\n",
              "    </tr>\n",
              "    <tr>\n",
              "      <th>FIRST_NAME</th>\n",
              "      <td>128</td>\n",
              "    </tr>\n",
              "    <tr>\n",
              "      <th>LAST_NAME</th>\n",
              "      <td>0</td>\n",
              "    </tr>\n",
              "    <tr>\n",
              "      <th>NATIONALITY</th>\n",
              "      <td>0</td>\n",
              "    </tr>\n",
              "    <tr>\n",
              "      <th>DOB</th>\n",
              "      <td>14</td>\n",
              "    </tr>\n",
              "    <tr>\n",
              "      <th>TEAM</th>\n",
              "      <td>0</td>\n",
              "    </tr>\n",
              "    <tr>\n",
              "      <th>JERSEY_NUMBER</th>\n",
              "      <td>259</td>\n",
              "    </tr>\n",
              "    <tr>\n",
              "      <th>POSITION</th>\n",
              "      <td>0</td>\n",
              "    </tr>\n",
              "    <tr>\n",
              "      <th>HEIGHT</th>\n",
              "      <td>219</td>\n",
              "    </tr>\n",
              "    <tr>\n",
              "      <th>WEIGHT</th>\n",
              "      <td>378</td>\n",
              "    </tr>\n",
              "    <tr>\n",
              "      <th>FOOT</th>\n",
              "      <td>408</td>\n",
              "    </tr>\n",
              "  </tbody>\n",
              "</table>\n",
              "</div><br><label><b>dtype:</b> int64</label>"
            ]
          },
          "metadata": {},
          "execution_count": 66
        }
      ]
    },
    {
      "cell_type": "markdown",
      "source": [
        "Ainda tem dados vazios, todavia não terá impacto nas analises."
      ],
      "metadata": {
        "id": "OTXtxxbCxQa8"
      }
    },
    {
      "cell_type": "markdown",
      "source": [
        "Mostrar 4 linhas de managers"
      ],
      "metadata": {
        "id": "cEajJHDxyuqE"
      }
    },
    {
      "cell_type": "code",
      "source": [
        "managers.sample(4)"
      ],
      "metadata": {
        "colab": {
          "base_uri": "https://localhost:8080/",
          "height": 175
        },
        "id": "DkZOS8YSwa3w",
        "outputId": "ac726d28-58e0-4653-ffea-76d371bc5f4c"
      },
      "execution_count": null,
      "outputs": [
        {
          "output_type": "execute_result",
          "data": {
            "text/plain": [
              "   FIRST_NAME LAST_NAME NATIONALITY        DOB           TEAM\n",
              "67   Fernando    Torres       Spain 1984-03-20            NaN\n",
              "16      Paulo   Fonseca    Portugal 1973-03-05      Lille OSC\n",
              "54   Philippe   Clement     Belgium 1974-03-22      AS Monaco\n",
              "30       Unai     Emery       Spain 1971-11-03  Villarreal CF"
            ],
            "text/html": [
              "\n",
              "  <div id=\"df-10280ad1-9148-44a3-ab56-5323b61633b0\" class=\"colab-df-container\">\n",
              "    <div>\n",
              "<style scoped>\n",
              "    .dataframe tbody tr th:only-of-type {\n",
              "        vertical-align: middle;\n",
              "    }\n",
              "\n",
              "    .dataframe tbody tr th {\n",
              "        vertical-align: top;\n",
              "    }\n",
              "\n",
              "    .dataframe thead th {\n",
              "        text-align: right;\n",
              "    }\n",
              "</style>\n",
              "<table border=\"1\" class=\"dataframe\">\n",
              "  <thead>\n",
              "    <tr style=\"text-align: right;\">\n",
              "      <th></th>\n",
              "      <th>FIRST_NAME</th>\n",
              "      <th>LAST_NAME</th>\n",
              "      <th>NATIONALITY</th>\n",
              "      <th>DOB</th>\n",
              "      <th>TEAM</th>\n",
              "    </tr>\n",
              "  </thead>\n",
              "  <tbody>\n",
              "    <tr>\n",
              "      <th>67</th>\n",
              "      <td>Fernando</td>\n",
              "      <td>Torres</td>\n",
              "      <td>Spain</td>\n",
              "      <td>1984-03-20</td>\n",
              "      <td>NaN</td>\n",
              "    </tr>\n",
              "    <tr>\n",
              "      <th>16</th>\n",
              "      <td>Paulo</td>\n",
              "      <td>Fonseca</td>\n",
              "      <td>Portugal</td>\n",
              "      <td>1973-03-05</td>\n",
              "      <td>Lille OSC</td>\n",
              "    </tr>\n",
              "    <tr>\n",
              "      <th>54</th>\n",
              "      <td>Philippe</td>\n",
              "      <td>Clement</td>\n",
              "      <td>Belgium</td>\n",
              "      <td>1974-03-22</td>\n",
              "      <td>AS Monaco</td>\n",
              "    </tr>\n",
              "    <tr>\n",
              "      <th>30</th>\n",
              "      <td>Unai</td>\n",
              "      <td>Emery</td>\n",
              "      <td>Spain</td>\n",
              "      <td>1971-11-03</td>\n",
              "      <td>Villarreal CF</td>\n",
              "    </tr>\n",
              "  </tbody>\n",
              "</table>\n",
              "</div>\n",
              "    <div class=\"colab-df-buttons\">\n",
              "\n",
              "  <div class=\"colab-df-container\">\n",
              "    <button class=\"colab-df-convert\" onclick=\"convertToInteractive('df-10280ad1-9148-44a3-ab56-5323b61633b0')\"\n",
              "            title=\"Convert this dataframe to an interactive table.\"\n",
              "            style=\"display:none;\">\n",
              "\n",
              "  <svg xmlns=\"http://www.w3.org/2000/svg\" height=\"24px\" viewBox=\"0 -960 960 960\">\n",
              "    <path d=\"M120-120v-720h720v720H120Zm60-500h600v-160H180v160Zm220 220h160v-160H400v160Zm0 220h160v-160H400v160ZM180-400h160v-160H180v160Zm440 0h160v-160H620v160ZM180-180h160v-160H180v160Zm440 0h160v-160H620v160Z\"/>\n",
              "  </svg>\n",
              "    </button>\n",
              "\n",
              "  <style>\n",
              "    .colab-df-container {\n",
              "      display:flex;\n",
              "      gap: 12px;\n",
              "    }\n",
              "\n",
              "    .colab-df-convert {\n",
              "      background-color: #E8F0FE;\n",
              "      border: none;\n",
              "      border-radius: 50%;\n",
              "      cursor: pointer;\n",
              "      display: none;\n",
              "      fill: #1967D2;\n",
              "      height: 32px;\n",
              "      padding: 0 0 0 0;\n",
              "      width: 32px;\n",
              "    }\n",
              "\n",
              "    .colab-df-convert:hover {\n",
              "      background-color: #E2EBFA;\n",
              "      box-shadow: 0px 1px 2px rgba(60, 64, 67, 0.3), 0px 1px 3px 1px rgba(60, 64, 67, 0.15);\n",
              "      fill: #174EA6;\n",
              "    }\n",
              "\n",
              "    .colab-df-buttons div {\n",
              "      margin-bottom: 4px;\n",
              "    }\n",
              "\n",
              "    [theme=dark] .colab-df-convert {\n",
              "      background-color: #3B4455;\n",
              "      fill: #D2E3FC;\n",
              "    }\n",
              "\n",
              "    [theme=dark] .colab-df-convert:hover {\n",
              "      background-color: #434B5C;\n",
              "      box-shadow: 0px 1px 3px 1px rgba(0, 0, 0, 0.15);\n",
              "      filter: drop-shadow(0px 1px 2px rgba(0, 0, 0, 0.3));\n",
              "      fill: #FFFFFF;\n",
              "    }\n",
              "  </style>\n",
              "\n",
              "    <script>\n",
              "      const buttonEl =\n",
              "        document.querySelector('#df-10280ad1-9148-44a3-ab56-5323b61633b0 button.colab-df-convert');\n",
              "      buttonEl.style.display =\n",
              "        google.colab.kernel.accessAllowed ? 'block' : 'none';\n",
              "\n",
              "      async function convertToInteractive(key) {\n",
              "        const element = document.querySelector('#df-10280ad1-9148-44a3-ab56-5323b61633b0');\n",
              "        const dataTable =\n",
              "          await google.colab.kernel.invokeFunction('convertToInteractive',\n",
              "                                                    [key], {});\n",
              "        if (!dataTable) return;\n",
              "\n",
              "        const docLinkHtml = 'Like what you see? Visit the ' +\n",
              "          '<a target=\"_blank\" href=https://colab.research.google.com/notebooks/data_table.ipynb>data table notebook</a>'\n",
              "          + ' to learn more about interactive tables.';\n",
              "        element.innerHTML = '';\n",
              "        dataTable['output_type'] = 'display_data';\n",
              "        await google.colab.output.renderOutput(dataTable, element);\n",
              "        const docLink = document.createElement('div');\n",
              "        docLink.innerHTML = docLinkHtml;\n",
              "        element.appendChild(docLink);\n",
              "      }\n",
              "    </script>\n",
              "  </div>\n",
              "\n",
              "\n",
              "<div id=\"df-d7a58fb9-8a46-4718-b9a6-787cd9dcec9f\">\n",
              "  <button class=\"colab-df-quickchart\" onclick=\"quickchart('df-d7a58fb9-8a46-4718-b9a6-787cd9dcec9f')\"\n",
              "            title=\"Suggest charts\"\n",
              "            style=\"display:none;\">\n",
              "\n",
              "<svg xmlns=\"http://www.w3.org/2000/svg\" height=\"24px\"viewBox=\"0 0 24 24\"\n",
              "     width=\"24px\">\n",
              "    <g>\n",
              "        <path d=\"M19 3H5c-1.1 0-2 .9-2 2v14c0 1.1.9 2 2 2h14c1.1 0 2-.9 2-2V5c0-1.1-.9-2-2-2zM9 17H7v-7h2v7zm4 0h-2V7h2v10zm4 0h-2v-4h2v4z\"/>\n",
              "    </g>\n",
              "</svg>\n",
              "  </button>\n",
              "\n",
              "<style>\n",
              "  .colab-df-quickchart {\n",
              "      --bg-color: #E8F0FE;\n",
              "      --fill-color: #1967D2;\n",
              "      --hover-bg-color: #E2EBFA;\n",
              "      --hover-fill-color: #174EA6;\n",
              "      --disabled-fill-color: #AAA;\n",
              "      --disabled-bg-color: #DDD;\n",
              "  }\n",
              "\n",
              "  [theme=dark] .colab-df-quickchart {\n",
              "      --bg-color: #3B4455;\n",
              "      --fill-color: #D2E3FC;\n",
              "      --hover-bg-color: #434B5C;\n",
              "      --hover-fill-color: #FFFFFF;\n",
              "      --disabled-bg-color: #3B4455;\n",
              "      --disabled-fill-color: #666;\n",
              "  }\n",
              "\n",
              "  .colab-df-quickchart {\n",
              "    background-color: var(--bg-color);\n",
              "    border: none;\n",
              "    border-radius: 50%;\n",
              "    cursor: pointer;\n",
              "    display: none;\n",
              "    fill: var(--fill-color);\n",
              "    height: 32px;\n",
              "    padding: 0;\n",
              "    width: 32px;\n",
              "  }\n",
              "\n",
              "  .colab-df-quickchart:hover {\n",
              "    background-color: var(--hover-bg-color);\n",
              "    box-shadow: 0 1px 2px rgba(60, 64, 67, 0.3), 0 1px 3px 1px rgba(60, 64, 67, 0.15);\n",
              "    fill: var(--button-hover-fill-color);\n",
              "  }\n",
              "\n",
              "  .colab-df-quickchart-complete:disabled,\n",
              "  .colab-df-quickchart-complete:disabled:hover {\n",
              "    background-color: var(--disabled-bg-color);\n",
              "    fill: var(--disabled-fill-color);\n",
              "    box-shadow: none;\n",
              "  }\n",
              "\n",
              "  .colab-df-spinner {\n",
              "    border: 2px solid var(--fill-color);\n",
              "    border-color: transparent;\n",
              "    border-bottom-color: var(--fill-color);\n",
              "    animation:\n",
              "      spin 1s steps(1) infinite;\n",
              "  }\n",
              "\n",
              "  @keyframes spin {\n",
              "    0% {\n",
              "      border-color: transparent;\n",
              "      border-bottom-color: var(--fill-color);\n",
              "      border-left-color: var(--fill-color);\n",
              "    }\n",
              "    20% {\n",
              "      border-color: transparent;\n",
              "      border-left-color: var(--fill-color);\n",
              "      border-top-color: var(--fill-color);\n",
              "    }\n",
              "    30% {\n",
              "      border-color: transparent;\n",
              "      border-left-color: var(--fill-color);\n",
              "      border-top-color: var(--fill-color);\n",
              "      border-right-color: var(--fill-color);\n",
              "    }\n",
              "    40% {\n",
              "      border-color: transparent;\n",
              "      border-right-color: var(--fill-color);\n",
              "      border-top-color: var(--fill-color);\n",
              "    }\n",
              "    60% {\n",
              "      border-color: transparent;\n",
              "      border-right-color: var(--fill-color);\n",
              "    }\n",
              "    80% {\n",
              "      border-color: transparent;\n",
              "      border-right-color: var(--fill-color);\n",
              "      border-bottom-color: var(--fill-color);\n",
              "    }\n",
              "    90% {\n",
              "      border-color: transparent;\n",
              "      border-bottom-color: var(--fill-color);\n",
              "    }\n",
              "  }\n",
              "</style>\n",
              "\n",
              "  <script>\n",
              "    async function quickchart(key) {\n",
              "      const quickchartButtonEl =\n",
              "        document.querySelector('#' + key + ' button');\n",
              "      quickchartButtonEl.disabled = true;  // To prevent multiple clicks.\n",
              "      quickchartButtonEl.classList.add('colab-df-spinner');\n",
              "      try {\n",
              "        const charts = await google.colab.kernel.invokeFunction(\n",
              "            'suggestCharts', [key], {});\n",
              "      } catch (error) {\n",
              "        console.error('Error during call to suggestCharts:', error);\n",
              "      }\n",
              "      quickchartButtonEl.classList.remove('colab-df-spinner');\n",
              "      quickchartButtonEl.classList.add('colab-df-quickchart-complete');\n",
              "    }\n",
              "    (() => {\n",
              "      let quickchartButtonEl =\n",
              "        document.querySelector('#df-d7a58fb9-8a46-4718-b9a6-787cd9dcec9f button');\n",
              "      quickchartButtonEl.style.display =\n",
              "        google.colab.kernel.accessAllowed ? 'block' : 'none';\n",
              "    })();\n",
              "  </script>\n",
              "</div>\n",
              "\n",
              "    </div>\n",
              "  </div>\n"
            ],
            "application/vnd.google.colaboratory.intrinsic+json": {
              "type": "dataframe",
              "summary": "{\n  \"name\": \"managers\",\n  \"rows\": 4,\n  \"fields\": [\n    {\n      \"column\": \"FIRST_NAME\",\n      \"properties\": {\n        \"dtype\": \"string\",\n        \"num_unique_values\": 4,\n        \"samples\": [\n          \"Paulo\",\n          \"Unai\",\n          \"Fernando\"\n        ],\n        \"semantic_type\": \"\",\n        \"description\": \"\"\n      }\n    },\n    {\n      \"column\": \"LAST_NAME\",\n      \"properties\": {\n        \"dtype\": \"string\",\n        \"num_unique_values\": 4,\n        \"samples\": [\n          \"Fonseca\",\n          \"Emery\",\n          \"Torres\"\n        ],\n        \"semantic_type\": \"\",\n        \"description\": \"\"\n      }\n    },\n    {\n      \"column\": \"NATIONALITY\",\n      \"properties\": {\n        \"dtype\": \"string\",\n        \"num_unique_values\": 3,\n        \"samples\": [\n          \"Spain\",\n          \"Portugal\",\n          \"Belgium\"\n        ],\n        \"semantic_type\": \"\",\n        \"description\": \"\"\n      }\n    },\n    {\n      \"column\": \"DOB\",\n      \"properties\": {\n        \"dtype\": \"date\",\n        \"min\": \"1971-11-03 00:00:00\",\n        \"max\": \"1984-03-20 00:00:00\",\n        \"num_unique_values\": 4,\n        \"samples\": [\n          \"1973-03-05 00:00:00\",\n          \"1971-11-03 00:00:00\",\n          \"1984-03-20 00:00:00\"\n        ],\n        \"semantic_type\": \"\",\n        \"description\": \"\"\n      }\n    },\n    {\n      \"column\": \"TEAM\",\n      \"properties\": {\n        \"dtype\": \"string\",\n        \"num_unique_values\": 3,\n        \"samples\": [\n          \"Lille OSC\",\n          \"AS Monaco\",\n          \"Villarreal CF\"\n        ],\n        \"semantic_type\": \"\",\n        \"description\": \"\"\n      }\n    }\n  ]\n}"
            }
          },
          "metadata": {},
          "execution_count": 67
        }
      ]
    },
    {
      "cell_type": "markdown",
      "source": [
        "Descobrir a quantidade de linhas e colunas de managers"
      ],
      "metadata": {
        "id": "2oKxC8XLy4-G"
      }
    },
    {
      "cell_type": "code",
      "source": [
        "linhas, colunas = managers.shape\n",
        "print(f'O banco de dados possui {linhas} linhas e {colunas} colunas')"
      ],
      "metadata": {
        "colab": {
          "base_uri": "https://localhost:8080/"
        },
        "id": "yd30f6X7y8JX",
        "outputId": "83e4e1a1-fdec-4065-9888-cd65a4ec68d7"
      },
      "execution_count": null,
      "outputs": [
        {
          "output_type": "stream",
          "name": "stdout",
          "text": [
            "O banco de dados possui 78 linhas e 5 colunas\n"
          ]
        }
      ]
    },
    {
      "cell_type": "markdown",
      "source": [
        "Descobrir os nomes das colunas de managers"
      ],
      "metadata": {
        "id": "f0RE-UG4y9hc"
      }
    },
    {
      "cell_type": "code",
      "source": [
        "managers.columns"
      ],
      "metadata": {
        "colab": {
          "base_uri": "https://localhost:8080/"
        },
        "id": "wZNp1YU1zAd7",
        "outputId": "7474ea4a-4024-415b-de7e-9c1dcf65fe8d"
      },
      "execution_count": null,
      "outputs": [
        {
          "output_type": "execute_result",
          "data": {
            "text/plain": [
              "Index(['FIRST_NAME', 'LAST_NAME', 'NATIONALITY', 'DOB', 'TEAM'], dtype='object')"
            ]
          },
          "metadata": {},
          "execution_count": 69
        }
      ]
    },
    {
      "cell_type": "markdown",
      "source": [
        "Informações do tipo de dados de cada coluna"
      ],
      "metadata": {
        "id": "FeY1aYPjzCwb"
      }
    },
    {
      "cell_type": "code",
      "source": [
        "managers.info()"
      ],
      "metadata": {
        "colab": {
          "base_uri": "https://localhost:8080/"
        },
        "id": "stdV8feizGAb",
        "outputId": "ba3b3b6f-f28c-4899-a02c-4607179843ee"
      },
      "execution_count": null,
      "outputs": [
        {
          "output_type": "stream",
          "name": "stdout",
          "text": [
            "<class 'pandas.core.frame.DataFrame'>\n",
            "RangeIndex: 78 entries, 0 to 77\n",
            "Data columns (total 5 columns):\n",
            " #   Column       Non-Null Count  Dtype         \n",
            "---  ------       --------------  -----         \n",
            " 0   FIRST_NAME   75 non-null     object        \n",
            " 1   LAST_NAME    78 non-null     object        \n",
            " 2   NATIONALITY  78 non-null     object        \n",
            " 3   DOB          78 non-null     datetime64[ns]\n",
            " 4   TEAM         73 non-null     object        \n",
            "dtypes: datetime64[ns](1), object(4)\n",
            "memory usage: 3.2+ KB\n"
          ]
        }
      ]
    },
    {
      "cell_type": "markdown",
      "source": [
        "Analisar se possui dados duplicados"
      ],
      "metadata": {
        "id": "OOAvicNlzFbY"
      }
    },
    {
      "cell_type": "code",
      "source": [
        "managers.duplicated().sum()"
      ],
      "metadata": {
        "colab": {
          "base_uri": "https://localhost:8080/"
        },
        "id": "DWcMBzYhzNn6",
        "outputId": "3fc210cb-f10c-45a9-ec36-110cdc1db1d0"
      },
      "execution_count": null,
      "outputs": [
        {
          "output_type": "execute_result",
          "data": {
            "text/plain": [
              "0"
            ]
          },
          "metadata": {},
          "execution_count": 71
        }
      ]
    },
    {
      "cell_type": "markdown",
      "source": [
        "Analisar se possui dados vazios"
      ],
      "metadata": {
        "id": "VTsD0FoQzPL2"
      }
    },
    {
      "cell_type": "code",
      "source": [
        "managers.isnull().sum()"
      ],
      "metadata": {
        "colab": {
          "base_uri": "https://localhost:8080/",
          "height": 241
        },
        "id": "ZkjDKrbAzQu9",
        "outputId": "6cd3e3c7-fba2-4145-f869-07fca4e3318d"
      },
      "execution_count": null,
      "outputs": [
        {
          "output_type": "execute_result",
          "data": {
            "text/plain": [
              "FIRST_NAME     3\n",
              "LAST_NAME      0\n",
              "NATIONALITY    0\n",
              "DOB            0\n",
              "TEAM           5\n",
              "dtype: int64"
            ],
            "text/html": [
              "<div>\n",
              "<style scoped>\n",
              "    .dataframe tbody tr th:only-of-type {\n",
              "        vertical-align: middle;\n",
              "    }\n",
              "\n",
              "    .dataframe tbody tr th {\n",
              "        vertical-align: top;\n",
              "    }\n",
              "\n",
              "    .dataframe thead th {\n",
              "        text-align: right;\n",
              "    }\n",
              "</style>\n",
              "<table border=\"1\" class=\"dataframe\">\n",
              "  <thead>\n",
              "    <tr style=\"text-align: right;\">\n",
              "      <th></th>\n",
              "      <th>0</th>\n",
              "    </tr>\n",
              "  </thead>\n",
              "  <tbody>\n",
              "    <tr>\n",
              "      <th>FIRST_NAME</th>\n",
              "      <td>3</td>\n",
              "    </tr>\n",
              "    <tr>\n",
              "      <th>LAST_NAME</th>\n",
              "      <td>0</td>\n",
              "    </tr>\n",
              "    <tr>\n",
              "      <th>NATIONALITY</th>\n",
              "      <td>0</td>\n",
              "    </tr>\n",
              "    <tr>\n",
              "      <th>DOB</th>\n",
              "      <td>0</td>\n",
              "    </tr>\n",
              "    <tr>\n",
              "      <th>TEAM</th>\n",
              "      <td>5</td>\n",
              "    </tr>\n",
              "  </tbody>\n",
              "</table>\n",
              "</div><br><label><b>dtype:</b> int64</label>"
            ]
          },
          "metadata": {},
          "execution_count": 72
        }
      ]
    },
    {
      "cell_type": "markdown",
      "source": [
        "Remover os registros onde o time está vazio, já que não serão utilizados dados de treinadores que não estão gerenciando um time."
      ],
      "metadata": {
        "id": "XmOyJ3jbzUZm"
      }
    },
    {
      "cell_type": "code",
      "source": [
        "managers = managers.dropna(subset=['TEAM'])\n",
        "managers.isnull().sum()"
      ],
      "metadata": {
        "colab": {
          "base_uri": "https://localhost:8080/",
          "height": 241
        },
        "id": "j-LPAVTbzqqd",
        "outputId": "3e87756c-04de-4acf-b650-23b00f7b5c78"
      },
      "execution_count": null,
      "outputs": [
        {
          "output_type": "execute_result",
          "data": {
            "text/plain": [
              "FIRST_NAME     3\n",
              "LAST_NAME      0\n",
              "NATIONALITY    0\n",
              "DOB            0\n",
              "TEAM           0\n",
              "dtype: int64"
            ],
            "text/html": [
              "<div>\n",
              "<style scoped>\n",
              "    .dataframe tbody tr th:only-of-type {\n",
              "        vertical-align: middle;\n",
              "    }\n",
              "\n",
              "    .dataframe tbody tr th {\n",
              "        vertical-align: top;\n",
              "    }\n",
              "\n",
              "    .dataframe thead th {\n",
              "        text-align: right;\n",
              "    }\n",
              "</style>\n",
              "<table border=\"1\" class=\"dataframe\">\n",
              "  <thead>\n",
              "    <tr style=\"text-align: right;\">\n",
              "      <th></th>\n",
              "      <th>0</th>\n",
              "    </tr>\n",
              "  </thead>\n",
              "  <tbody>\n",
              "    <tr>\n",
              "      <th>FIRST_NAME</th>\n",
              "      <td>3</td>\n",
              "    </tr>\n",
              "    <tr>\n",
              "      <th>LAST_NAME</th>\n",
              "      <td>0</td>\n",
              "    </tr>\n",
              "    <tr>\n",
              "      <th>NATIONALITY</th>\n",
              "      <td>0</td>\n",
              "    </tr>\n",
              "    <tr>\n",
              "      <th>DOB</th>\n",
              "      <td>0</td>\n",
              "    </tr>\n",
              "    <tr>\n",
              "      <th>TEAM</th>\n",
              "      <td>0</td>\n",
              "    </tr>\n",
              "  </tbody>\n",
              "</table>\n",
              "</div><br><label><b>dtype:</b> int64</label>"
            ]
          },
          "metadata": {},
          "execution_count": 73
        }
      ]
    },
    {
      "cell_type": "markdown",
      "source": [
        "Ainda existem 3 registros com o primeiro nome vazio, porém, é possível identificá-los pelo sobrenome do treinador"
      ],
      "metadata": {
        "id": "RP3_IdkhzzbE"
      }
    },
    {
      "cell_type": "markdown",
      "source": [
        "Mostrar 4 linhas de matches"
      ],
      "metadata": {
        "id": "3HKaUzl-0TdF"
      }
    },
    {
      "cell_type": "code",
      "source": [
        "matches.sample(4)"
      ],
      "metadata": {
        "colab": {
          "base_uri": "https://localhost:8080/",
          "height": 314
        },
        "id": "h2CaoxRgzxgK",
        "outputId": "268728bb-04ab-48e1-bbd2-956c4300657c"
      },
      "execution_count": null,
      "outputs": [
        {
          "output_type": "execute_result",
          "data": {
            "text/plain": [
              "    MATCH_ID     SEASON                        DATE_TIME            HOME_TEAM  \\\n",
              "641    mt642  2016-2017  06-DEC-16 07.45.00.000000000 PM          Dinamo Kiev   \n",
              "372    mt373  2018-2019  03-OCT-18 08.00.00.000000000 PM      Atlético Madrid   \n",
              "502    mt503  2017-2018  22-NOV-17 05.00.00.000000000 PM          CSKA Moskva   \n",
              "156    mt157  2020-2021  25-NOV-20 08.00.00.000000000 PM  Olympique Marseille   \n",
              "\n",
              "          AWAY_TEAM              STADIUM  HOME_TEAM_SCORE  AWAY_TEAM_SCORE  \\\n",
              "641        Beşiktaş          Olimpiyskyi                6                0   \n",
              "372  Club Brugge KV  Wanda Metropolitano                3                1   \n",
              "502      SL Benfica            VEB Arena                2                0   \n",
              "156        FC Porto            Vélodrome                0                2   \n",
              "\n",
              "     PENALTY_SHOOT_OUT  ATTENDANCE  \n",
              "641                  0       14036  \n",
              "372                  0       55742  \n",
              "502                  0       27709  \n",
              "156                  0           0  "
            ],
            "text/html": [
              "\n",
              "  <div id=\"df-914a2ce6-bad3-4250-838f-5774960276cb\" class=\"colab-df-container\">\n",
              "    <div>\n",
              "<style scoped>\n",
              "    .dataframe tbody tr th:only-of-type {\n",
              "        vertical-align: middle;\n",
              "    }\n",
              "\n",
              "    .dataframe tbody tr th {\n",
              "        vertical-align: top;\n",
              "    }\n",
              "\n",
              "    .dataframe thead th {\n",
              "        text-align: right;\n",
              "    }\n",
              "</style>\n",
              "<table border=\"1\" class=\"dataframe\">\n",
              "  <thead>\n",
              "    <tr style=\"text-align: right;\">\n",
              "      <th></th>\n",
              "      <th>MATCH_ID</th>\n",
              "      <th>SEASON</th>\n",
              "      <th>DATE_TIME</th>\n",
              "      <th>HOME_TEAM</th>\n",
              "      <th>AWAY_TEAM</th>\n",
              "      <th>STADIUM</th>\n",
              "      <th>HOME_TEAM_SCORE</th>\n",
              "      <th>AWAY_TEAM_SCORE</th>\n",
              "      <th>PENALTY_SHOOT_OUT</th>\n",
              "      <th>ATTENDANCE</th>\n",
              "    </tr>\n",
              "  </thead>\n",
              "  <tbody>\n",
              "    <tr>\n",
              "      <th>641</th>\n",
              "      <td>mt642</td>\n",
              "      <td>2016-2017</td>\n",
              "      <td>06-DEC-16 07.45.00.000000000 PM</td>\n",
              "      <td>Dinamo Kiev</td>\n",
              "      <td>Beşiktaş</td>\n",
              "      <td>Olimpiyskyi</td>\n",
              "      <td>6</td>\n",
              "      <td>0</td>\n",
              "      <td>0</td>\n",
              "      <td>14036</td>\n",
              "    </tr>\n",
              "    <tr>\n",
              "      <th>372</th>\n",
              "      <td>mt373</td>\n",
              "      <td>2018-2019</td>\n",
              "      <td>03-OCT-18 08.00.00.000000000 PM</td>\n",
              "      <td>Atlético Madrid</td>\n",
              "      <td>Club Brugge KV</td>\n",
              "      <td>Wanda Metropolitano</td>\n",
              "      <td>3</td>\n",
              "      <td>1</td>\n",
              "      <td>0</td>\n",
              "      <td>55742</td>\n",
              "    </tr>\n",
              "    <tr>\n",
              "      <th>502</th>\n",
              "      <td>mt503</td>\n",
              "      <td>2017-2018</td>\n",
              "      <td>22-NOV-17 05.00.00.000000000 PM</td>\n",
              "      <td>CSKA Moskva</td>\n",
              "      <td>SL Benfica</td>\n",
              "      <td>VEB Arena</td>\n",
              "      <td>2</td>\n",
              "      <td>0</td>\n",
              "      <td>0</td>\n",
              "      <td>27709</td>\n",
              "    </tr>\n",
              "    <tr>\n",
              "      <th>156</th>\n",
              "      <td>mt157</td>\n",
              "      <td>2020-2021</td>\n",
              "      <td>25-NOV-20 08.00.00.000000000 PM</td>\n",
              "      <td>Olympique Marseille</td>\n",
              "      <td>FC Porto</td>\n",
              "      <td>Vélodrome</td>\n",
              "      <td>0</td>\n",
              "      <td>2</td>\n",
              "      <td>0</td>\n",
              "      <td>0</td>\n",
              "    </tr>\n",
              "  </tbody>\n",
              "</table>\n",
              "</div>\n",
              "    <div class=\"colab-df-buttons\">\n",
              "\n",
              "  <div class=\"colab-df-container\">\n",
              "    <button class=\"colab-df-convert\" onclick=\"convertToInteractive('df-914a2ce6-bad3-4250-838f-5774960276cb')\"\n",
              "            title=\"Convert this dataframe to an interactive table.\"\n",
              "            style=\"display:none;\">\n",
              "\n",
              "  <svg xmlns=\"http://www.w3.org/2000/svg\" height=\"24px\" viewBox=\"0 -960 960 960\">\n",
              "    <path d=\"M120-120v-720h720v720H120Zm60-500h600v-160H180v160Zm220 220h160v-160H400v160Zm0 220h160v-160H400v160ZM180-400h160v-160H180v160Zm440 0h160v-160H620v160ZM180-180h160v-160H180v160Zm440 0h160v-160H620v160Z\"/>\n",
              "  </svg>\n",
              "    </button>\n",
              "\n",
              "  <style>\n",
              "    .colab-df-container {\n",
              "      display:flex;\n",
              "      gap: 12px;\n",
              "    }\n",
              "\n",
              "    .colab-df-convert {\n",
              "      background-color: #E8F0FE;\n",
              "      border: none;\n",
              "      border-radius: 50%;\n",
              "      cursor: pointer;\n",
              "      display: none;\n",
              "      fill: #1967D2;\n",
              "      height: 32px;\n",
              "      padding: 0 0 0 0;\n",
              "      width: 32px;\n",
              "    }\n",
              "\n",
              "    .colab-df-convert:hover {\n",
              "      background-color: #E2EBFA;\n",
              "      box-shadow: 0px 1px 2px rgba(60, 64, 67, 0.3), 0px 1px 3px 1px rgba(60, 64, 67, 0.15);\n",
              "      fill: #174EA6;\n",
              "    }\n",
              "\n",
              "    .colab-df-buttons div {\n",
              "      margin-bottom: 4px;\n",
              "    }\n",
              "\n",
              "    [theme=dark] .colab-df-convert {\n",
              "      background-color: #3B4455;\n",
              "      fill: #D2E3FC;\n",
              "    }\n",
              "\n",
              "    [theme=dark] .colab-df-convert:hover {\n",
              "      background-color: #434B5C;\n",
              "      box-shadow: 0px 1px 3px 1px rgba(0, 0, 0, 0.15);\n",
              "      filter: drop-shadow(0px 1px 2px rgba(0, 0, 0, 0.3));\n",
              "      fill: #FFFFFF;\n",
              "    }\n",
              "  </style>\n",
              "\n",
              "    <script>\n",
              "      const buttonEl =\n",
              "        document.querySelector('#df-914a2ce6-bad3-4250-838f-5774960276cb button.colab-df-convert');\n",
              "      buttonEl.style.display =\n",
              "        google.colab.kernel.accessAllowed ? 'block' : 'none';\n",
              "\n",
              "      async function convertToInteractive(key) {\n",
              "        const element = document.querySelector('#df-914a2ce6-bad3-4250-838f-5774960276cb');\n",
              "        const dataTable =\n",
              "          await google.colab.kernel.invokeFunction('convertToInteractive',\n",
              "                                                    [key], {});\n",
              "        if (!dataTable) return;\n",
              "\n",
              "        const docLinkHtml = 'Like what you see? Visit the ' +\n",
              "          '<a target=\"_blank\" href=https://colab.research.google.com/notebooks/data_table.ipynb>data table notebook</a>'\n",
              "          + ' to learn more about interactive tables.';\n",
              "        element.innerHTML = '';\n",
              "        dataTable['output_type'] = 'display_data';\n",
              "        await google.colab.output.renderOutput(dataTable, element);\n",
              "        const docLink = document.createElement('div');\n",
              "        docLink.innerHTML = docLinkHtml;\n",
              "        element.appendChild(docLink);\n",
              "      }\n",
              "    </script>\n",
              "  </div>\n",
              "\n",
              "\n",
              "<div id=\"df-0e62c1db-e16f-4e8d-8a49-cb67ba969bd9\">\n",
              "  <button class=\"colab-df-quickchart\" onclick=\"quickchart('df-0e62c1db-e16f-4e8d-8a49-cb67ba969bd9')\"\n",
              "            title=\"Suggest charts\"\n",
              "            style=\"display:none;\">\n",
              "\n",
              "<svg xmlns=\"http://www.w3.org/2000/svg\" height=\"24px\"viewBox=\"0 0 24 24\"\n",
              "     width=\"24px\">\n",
              "    <g>\n",
              "        <path d=\"M19 3H5c-1.1 0-2 .9-2 2v14c0 1.1.9 2 2 2h14c1.1 0 2-.9 2-2V5c0-1.1-.9-2-2-2zM9 17H7v-7h2v7zm4 0h-2V7h2v10zm4 0h-2v-4h2v4z\"/>\n",
              "    </g>\n",
              "</svg>\n",
              "  </button>\n",
              "\n",
              "<style>\n",
              "  .colab-df-quickchart {\n",
              "      --bg-color: #E8F0FE;\n",
              "      --fill-color: #1967D2;\n",
              "      --hover-bg-color: #E2EBFA;\n",
              "      --hover-fill-color: #174EA6;\n",
              "      --disabled-fill-color: #AAA;\n",
              "      --disabled-bg-color: #DDD;\n",
              "  }\n",
              "\n",
              "  [theme=dark] .colab-df-quickchart {\n",
              "      --bg-color: #3B4455;\n",
              "      --fill-color: #D2E3FC;\n",
              "      --hover-bg-color: #434B5C;\n",
              "      --hover-fill-color: #FFFFFF;\n",
              "      --disabled-bg-color: #3B4455;\n",
              "      --disabled-fill-color: #666;\n",
              "  }\n",
              "\n",
              "  .colab-df-quickchart {\n",
              "    background-color: var(--bg-color);\n",
              "    border: none;\n",
              "    border-radius: 50%;\n",
              "    cursor: pointer;\n",
              "    display: none;\n",
              "    fill: var(--fill-color);\n",
              "    height: 32px;\n",
              "    padding: 0;\n",
              "    width: 32px;\n",
              "  }\n",
              "\n",
              "  .colab-df-quickchart:hover {\n",
              "    background-color: var(--hover-bg-color);\n",
              "    box-shadow: 0 1px 2px rgba(60, 64, 67, 0.3), 0 1px 3px 1px rgba(60, 64, 67, 0.15);\n",
              "    fill: var(--button-hover-fill-color);\n",
              "  }\n",
              "\n",
              "  .colab-df-quickchart-complete:disabled,\n",
              "  .colab-df-quickchart-complete:disabled:hover {\n",
              "    background-color: var(--disabled-bg-color);\n",
              "    fill: var(--disabled-fill-color);\n",
              "    box-shadow: none;\n",
              "  }\n",
              "\n",
              "  .colab-df-spinner {\n",
              "    border: 2px solid var(--fill-color);\n",
              "    border-color: transparent;\n",
              "    border-bottom-color: var(--fill-color);\n",
              "    animation:\n",
              "      spin 1s steps(1) infinite;\n",
              "  }\n",
              "\n",
              "  @keyframes spin {\n",
              "    0% {\n",
              "      border-color: transparent;\n",
              "      border-bottom-color: var(--fill-color);\n",
              "      border-left-color: var(--fill-color);\n",
              "    }\n",
              "    20% {\n",
              "      border-color: transparent;\n",
              "      border-left-color: var(--fill-color);\n",
              "      border-top-color: var(--fill-color);\n",
              "    }\n",
              "    30% {\n",
              "      border-color: transparent;\n",
              "      border-left-color: var(--fill-color);\n",
              "      border-top-color: var(--fill-color);\n",
              "      border-right-color: var(--fill-color);\n",
              "    }\n",
              "    40% {\n",
              "      border-color: transparent;\n",
              "      border-right-color: var(--fill-color);\n",
              "      border-top-color: var(--fill-color);\n",
              "    }\n",
              "    60% {\n",
              "      border-color: transparent;\n",
              "      border-right-color: var(--fill-color);\n",
              "    }\n",
              "    80% {\n",
              "      border-color: transparent;\n",
              "      border-right-color: var(--fill-color);\n",
              "      border-bottom-color: var(--fill-color);\n",
              "    }\n",
              "    90% {\n",
              "      border-color: transparent;\n",
              "      border-bottom-color: var(--fill-color);\n",
              "    }\n",
              "  }\n",
              "</style>\n",
              "\n",
              "  <script>\n",
              "    async function quickchart(key) {\n",
              "      const quickchartButtonEl =\n",
              "        document.querySelector('#' + key + ' button');\n",
              "      quickchartButtonEl.disabled = true;  // To prevent multiple clicks.\n",
              "      quickchartButtonEl.classList.add('colab-df-spinner');\n",
              "      try {\n",
              "        const charts = await google.colab.kernel.invokeFunction(\n",
              "            'suggestCharts', [key], {});\n",
              "      } catch (error) {\n",
              "        console.error('Error during call to suggestCharts:', error);\n",
              "      }\n",
              "      quickchartButtonEl.classList.remove('colab-df-spinner');\n",
              "      quickchartButtonEl.classList.add('colab-df-quickchart-complete');\n",
              "    }\n",
              "    (() => {\n",
              "      let quickchartButtonEl =\n",
              "        document.querySelector('#df-0e62c1db-e16f-4e8d-8a49-cb67ba969bd9 button');\n",
              "      quickchartButtonEl.style.display =\n",
              "        google.colab.kernel.accessAllowed ? 'block' : 'none';\n",
              "    })();\n",
              "  </script>\n",
              "</div>\n",
              "\n",
              "    </div>\n",
              "  </div>\n"
            ],
            "application/vnd.google.colaboratory.intrinsic+json": {
              "type": "dataframe",
              "summary": "{\n  \"name\": \"matches\",\n  \"rows\": 4,\n  \"fields\": [\n    {\n      \"column\": \"MATCH_ID\",\n      \"properties\": {\n        \"dtype\": \"string\",\n        \"num_unique_values\": 4,\n        \"samples\": [\n          \"mt373\",\n          \"mt157\",\n          \"mt642\"\n        ],\n        \"semantic_type\": \"\",\n        \"description\": \"\"\n      }\n    },\n    {\n      \"column\": \"SEASON\",\n      \"properties\": {\n        \"dtype\": \"string\",\n        \"num_unique_values\": 4,\n        \"samples\": [\n          \"2018-2019\",\n          \"2020-2021\",\n          \"2016-2017\"\n        ],\n        \"semantic_type\": \"\",\n        \"description\": \"\"\n      }\n    },\n    {\n      \"column\": \"DATE_TIME\",\n      \"properties\": {\n        \"dtype\": \"string\",\n        \"num_unique_values\": 4,\n        \"samples\": [\n          \"03-OCT-18 08.00.00.000000000 PM\",\n          \"25-NOV-20 08.00.00.000000000 PM\",\n          \"06-DEC-16 07.45.00.000000000 PM\"\n        ],\n        \"semantic_type\": \"\",\n        \"description\": \"\"\n      }\n    },\n    {\n      \"column\": \"HOME_TEAM\",\n      \"properties\": {\n        \"dtype\": \"string\",\n        \"num_unique_values\": 4,\n        \"samples\": [\n          \"Atl\\u00e9tico Madrid\",\n          \"Olympique Marseille\",\n          \"Dinamo Kiev\"\n        ],\n        \"semantic_type\": \"\",\n        \"description\": \"\"\n      }\n    },\n    {\n      \"column\": \"AWAY_TEAM\",\n      \"properties\": {\n        \"dtype\": \"string\",\n        \"num_unique_values\": 4,\n        \"samples\": [\n          \"Club Brugge KV\",\n          \"FC Porto\",\n          \"Be\\u015fikta\\u015f\"\n        ],\n        \"semantic_type\": \"\",\n        \"description\": \"\"\n      }\n    },\n    {\n      \"column\": \"STADIUM\",\n      \"properties\": {\n        \"dtype\": \"string\",\n        \"num_unique_values\": 4,\n        \"samples\": [\n          \"Wanda Metropolitano\",\n          \"V\\u00e9lodrome\",\n          \"Olimpiyskyi\"\n        ],\n        \"semantic_type\": \"\",\n        \"description\": \"\"\n      }\n    },\n    {\n      \"column\": \"HOME_TEAM_SCORE\",\n      \"properties\": {\n        \"dtype\": \"number\",\n        \"std\": 2,\n        \"min\": 0,\n        \"max\": 6,\n        \"num_unique_values\": 4,\n        \"samples\": [\n          3,\n          0,\n          6\n        ],\n        \"semantic_type\": \"\",\n        \"description\": \"\"\n      }\n    },\n    {\n      \"column\": \"AWAY_TEAM_SCORE\",\n      \"properties\": {\n        \"dtype\": \"number\",\n        \"std\": 0,\n        \"min\": 0,\n        \"max\": 2,\n        \"num_unique_values\": 3,\n        \"samples\": [\n          0,\n          1,\n          2\n        ],\n        \"semantic_type\": \"\",\n        \"description\": \"\"\n      }\n    },\n    {\n      \"column\": \"PENALTY_SHOOT_OUT\",\n      \"properties\": {\n        \"dtype\": \"number\",\n        \"std\": 0,\n        \"min\": 0,\n        \"max\": 0,\n        \"num_unique_values\": 1,\n        \"samples\": [\n          0\n        ],\n        \"semantic_type\": \"\",\n        \"description\": \"\"\n      }\n    },\n    {\n      \"column\": \"ATTENDANCE\",\n      \"properties\": {\n        \"dtype\": \"number\",\n        \"std\": 23777,\n        \"min\": 0,\n        \"max\": 55742,\n        \"num_unique_values\": 4,\n        \"samples\": [\n          55742\n        ],\n        \"semantic_type\": \"\",\n        \"description\": \"\"\n      }\n    }\n  ]\n}"
            }
          },
          "metadata": {},
          "execution_count": 74
        }
      ]
    },
    {
      "cell_type": "markdown",
      "source": [
        "Descobrir a quantidade de linhas e colunas de matches"
      ],
      "metadata": {
        "id": "aiAL121i0V-a"
      }
    },
    {
      "cell_type": "code",
      "source": [
        "linhas, colunas = matches.shape\n",
        "print(f'O banco de dados possui {linhas} linhas e {colunas} colunas')"
      ],
      "metadata": {
        "colab": {
          "base_uri": "https://localhost:8080/"
        },
        "id": "o2gklYo-0ZCi",
        "outputId": "116d5b91-b780-4bfc-8b09-7d2ba171c5ee"
      },
      "execution_count": null,
      "outputs": [
        {
          "output_type": "stream",
          "name": "stdout",
          "text": [
            "O banco de dados possui 744 linhas e 10 colunas\n"
          ]
        }
      ]
    },
    {
      "cell_type": "markdown",
      "source": [
        "Descobrir os nomes das colunas de matches"
      ],
      "metadata": {
        "id": "t8-ErcYJ0c9H"
      }
    },
    {
      "cell_type": "code",
      "source": [
        "matches.columns"
      ],
      "metadata": {
        "colab": {
          "base_uri": "https://localhost:8080/"
        },
        "id": "3tkwdd6e0ddr",
        "outputId": "1ae9f491-ba10-482d-8b41-0d12e8c30ec8"
      },
      "execution_count": null,
      "outputs": [
        {
          "output_type": "execute_result",
          "data": {
            "text/plain": [
              "Index(['MATCH_ID', 'SEASON', 'DATE_TIME', 'HOME_TEAM', 'AWAY_TEAM', 'STADIUM',\n",
              "       'HOME_TEAM_SCORE', 'AWAY_TEAM_SCORE', 'PENALTY_SHOOT_OUT',\n",
              "       'ATTENDANCE'],\n",
              "      dtype='object')"
            ]
          },
          "metadata": {},
          "execution_count": 76
        }
      ]
    },
    {
      "cell_type": "markdown",
      "source": [
        "Informações do tipo de dados de cada coluna"
      ],
      "metadata": {
        "id": "oPFO4Lse0gmA"
      }
    },
    {
      "cell_type": "code",
      "source": [
        "matches.info()"
      ],
      "metadata": {
        "colab": {
          "base_uri": "https://localhost:8080/"
        },
        "id": "RRS78NsW0ioN",
        "outputId": "f6319970-6b2d-4e5d-acb0-6026b8f135c9"
      },
      "execution_count": null,
      "outputs": [
        {
          "output_type": "stream",
          "name": "stdout",
          "text": [
            "<class 'pandas.core.frame.DataFrame'>\n",
            "RangeIndex: 744 entries, 0 to 743\n",
            "Data columns (total 10 columns):\n",
            " #   Column             Non-Null Count  Dtype \n",
            "---  ------             --------------  ----- \n",
            " 0   MATCH_ID           744 non-null    object\n",
            " 1   SEASON             744 non-null    object\n",
            " 2   DATE_TIME          744 non-null    object\n",
            " 3   HOME_TEAM          744 non-null    object\n",
            " 4   AWAY_TEAM          744 non-null    object\n",
            " 5   STADIUM            744 non-null    object\n",
            " 6   HOME_TEAM_SCORE    744 non-null    int64 \n",
            " 7   AWAY_TEAM_SCORE    744 non-null    int64 \n",
            " 8   PENALTY_SHOOT_OUT  744 non-null    int64 \n",
            " 9   ATTENDANCE         744 non-null    int64 \n",
            "dtypes: int64(4), object(6)\n",
            "memory usage: 58.3+ KB\n"
          ]
        }
      ]
    },
    {
      "cell_type": "markdown",
      "source": [
        "Analisar se possui dados duplicados"
      ],
      "metadata": {
        "id": "Z_itXvsz0kel"
      }
    },
    {
      "cell_type": "code",
      "source": [
        "matches.duplicated().sum()"
      ],
      "metadata": {
        "colab": {
          "base_uri": "https://localhost:8080/"
        },
        "id": "MubVrVfn0ltT",
        "outputId": "2097227d-efee-406b-e2f2-d88a0d7405e1"
      },
      "execution_count": null,
      "outputs": [
        {
          "output_type": "execute_result",
          "data": {
            "text/plain": [
              "0"
            ]
          },
          "metadata": {},
          "execution_count": 78
        }
      ]
    },
    {
      "cell_type": "markdown",
      "source": [
        "Analisar se possui dados vazios"
      ],
      "metadata": {
        "id": "G9sPbAYX0sUf"
      }
    },
    {
      "cell_type": "code",
      "source": [
        "matches.isnull().sum()"
      ],
      "metadata": {
        "colab": {
          "base_uri": "https://localhost:8080/",
          "height": 398
        },
        "id": "joef-sRT0s4p",
        "outputId": "b598c172-e8ad-4f79-db8d-47e8dc37f24b"
      },
      "execution_count": null,
      "outputs": [
        {
          "output_type": "execute_result",
          "data": {
            "text/plain": [
              "MATCH_ID             0\n",
              "SEASON               0\n",
              "DATE_TIME            0\n",
              "HOME_TEAM            0\n",
              "AWAY_TEAM            0\n",
              "STADIUM              0\n",
              "HOME_TEAM_SCORE      0\n",
              "AWAY_TEAM_SCORE      0\n",
              "PENALTY_SHOOT_OUT    0\n",
              "ATTENDANCE           0\n",
              "dtype: int64"
            ],
            "text/html": [
              "<div>\n",
              "<style scoped>\n",
              "    .dataframe tbody tr th:only-of-type {\n",
              "        vertical-align: middle;\n",
              "    }\n",
              "\n",
              "    .dataframe tbody tr th {\n",
              "        vertical-align: top;\n",
              "    }\n",
              "\n",
              "    .dataframe thead th {\n",
              "        text-align: right;\n",
              "    }\n",
              "</style>\n",
              "<table border=\"1\" class=\"dataframe\">\n",
              "  <thead>\n",
              "    <tr style=\"text-align: right;\">\n",
              "      <th></th>\n",
              "      <th>0</th>\n",
              "    </tr>\n",
              "  </thead>\n",
              "  <tbody>\n",
              "    <tr>\n",
              "      <th>MATCH_ID</th>\n",
              "      <td>0</td>\n",
              "    </tr>\n",
              "    <tr>\n",
              "      <th>SEASON</th>\n",
              "      <td>0</td>\n",
              "    </tr>\n",
              "    <tr>\n",
              "      <th>DATE_TIME</th>\n",
              "      <td>0</td>\n",
              "    </tr>\n",
              "    <tr>\n",
              "      <th>HOME_TEAM</th>\n",
              "      <td>0</td>\n",
              "    </tr>\n",
              "    <tr>\n",
              "      <th>AWAY_TEAM</th>\n",
              "      <td>0</td>\n",
              "    </tr>\n",
              "    <tr>\n",
              "      <th>STADIUM</th>\n",
              "      <td>0</td>\n",
              "    </tr>\n",
              "    <tr>\n",
              "      <th>HOME_TEAM_SCORE</th>\n",
              "      <td>0</td>\n",
              "    </tr>\n",
              "    <tr>\n",
              "      <th>AWAY_TEAM_SCORE</th>\n",
              "      <td>0</td>\n",
              "    </tr>\n",
              "    <tr>\n",
              "      <th>PENALTY_SHOOT_OUT</th>\n",
              "      <td>0</td>\n",
              "    </tr>\n",
              "    <tr>\n",
              "      <th>ATTENDANCE</th>\n",
              "      <td>0</td>\n",
              "    </tr>\n",
              "  </tbody>\n",
              "</table>\n",
              "</div><br><label><b>dtype:</b> int64</label>"
            ]
          },
          "metadata": {},
          "execution_count": 79
        }
      ]
    },
    {
      "cell_type": "markdown",
      "source": [
        "Mostrar 4 linhas de goals"
      ],
      "metadata": {
        "id": "BxOOoKzC0xXi"
      }
    },
    {
      "cell_type": "code",
      "source": [
        "goals.sample(4)"
      ],
      "metadata": {
        "colab": {
          "base_uri": "https://localhost:8080/",
          "height": 175
        },
        "id": "qlblAe3807xa",
        "outputId": "800706bf-3bfb-41c0-f434-7d3206be03d4"
      },
      "execution_count": null,
      "outputs": [
        {
          "output_type": "execute_result",
          "data": {
            "text/plain": [
              "     GOAL_ID MATCH_ID      PID  DURATION   ASSIST          GOAL_DESC\n",
              "1547  gl1247    mt412   ply864        67   ply861   left-footed shot\n",
              "1806  gl1506    mt497  ply2458        20  ply1105  right-footed shot\n",
              "1285   gl985    mt324   ply767        69   ply766  right-footed shot\n",
              "543    gl238     mt72    ply87        80  ply1100  right-footed shot"
            ],
            "text/html": [
              "\n",
              "  <div id=\"df-99c80531-201a-4a59-a852-2d7a86309087\" class=\"colab-df-container\">\n",
              "    <div>\n",
              "<style scoped>\n",
              "    .dataframe tbody tr th:only-of-type {\n",
              "        vertical-align: middle;\n",
              "    }\n",
              "\n",
              "    .dataframe tbody tr th {\n",
              "        vertical-align: top;\n",
              "    }\n",
              "\n",
              "    .dataframe thead th {\n",
              "        text-align: right;\n",
              "    }\n",
              "</style>\n",
              "<table border=\"1\" class=\"dataframe\">\n",
              "  <thead>\n",
              "    <tr style=\"text-align: right;\">\n",
              "      <th></th>\n",
              "      <th>GOAL_ID</th>\n",
              "      <th>MATCH_ID</th>\n",
              "      <th>PID</th>\n",
              "      <th>DURATION</th>\n",
              "      <th>ASSIST</th>\n",
              "      <th>GOAL_DESC</th>\n",
              "    </tr>\n",
              "  </thead>\n",
              "  <tbody>\n",
              "    <tr>\n",
              "      <th>1547</th>\n",
              "      <td>gl1247</td>\n",
              "      <td>mt412</td>\n",
              "      <td>ply864</td>\n",
              "      <td>67</td>\n",
              "      <td>ply861</td>\n",
              "      <td>left-footed shot</td>\n",
              "    </tr>\n",
              "    <tr>\n",
              "      <th>1806</th>\n",
              "      <td>gl1506</td>\n",
              "      <td>mt497</td>\n",
              "      <td>ply2458</td>\n",
              "      <td>20</td>\n",
              "      <td>ply1105</td>\n",
              "      <td>right-footed shot</td>\n",
              "    </tr>\n",
              "    <tr>\n",
              "      <th>1285</th>\n",
              "      <td>gl985</td>\n",
              "      <td>mt324</td>\n",
              "      <td>ply767</td>\n",
              "      <td>69</td>\n",
              "      <td>ply766</td>\n",
              "      <td>right-footed shot</td>\n",
              "    </tr>\n",
              "    <tr>\n",
              "      <th>543</th>\n",
              "      <td>gl238</td>\n",
              "      <td>mt72</td>\n",
              "      <td>ply87</td>\n",
              "      <td>80</td>\n",
              "      <td>ply1100</td>\n",
              "      <td>right-footed shot</td>\n",
              "    </tr>\n",
              "  </tbody>\n",
              "</table>\n",
              "</div>\n",
              "    <div class=\"colab-df-buttons\">\n",
              "\n",
              "  <div class=\"colab-df-container\">\n",
              "    <button class=\"colab-df-convert\" onclick=\"convertToInteractive('df-99c80531-201a-4a59-a852-2d7a86309087')\"\n",
              "            title=\"Convert this dataframe to an interactive table.\"\n",
              "            style=\"display:none;\">\n",
              "\n",
              "  <svg xmlns=\"http://www.w3.org/2000/svg\" height=\"24px\" viewBox=\"0 -960 960 960\">\n",
              "    <path d=\"M120-120v-720h720v720H120Zm60-500h600v-160H180v160Zm220 220h160v-160H400v160Zm0 220h160v-160H400v160ZM180-400h160v-160H180v160Zm440 0h160v-160H620v160ZM180-180h160v-160H180v160Zm440 0h160v-160H620v160Z\"/>\n",
              "  </svg>\n",
              "    </button>\n",
              "\n",
              "  <style>\n",
              "    .colab-df-container {\n",
              "      display:flex;\n",
              "      gap: 12px;\n",
              "    }\n",
              "\n",
              "    .colab-df-convert {\n",
              "      background-color: #E8F0FE;\n",
              "      border: none;\n",
              "      border-radius: 50%;\n",
              "      cursor: pointer;\n",
              "      display: none;\n",
              "      fill: #1967D2;\n",
              "      height: 32px;\n",
              "      padding: 0 0 0 0;\n",
              "      width: 32px;\n",
              "    }\n",
              "\n",
              "    .colab-df-convert:hover {\n",
              "      background-color: #E2EBFA;\n",
              "      box-shadow: 0px 1px 2px rgba(60, 64, 67, 0.3), 0px 1px 3px 1px rgba(60, 64, 67, 0.15);\n",
              "      fill: #174EA6;\n",
              "    }\n",
              "\n",
              "    .colab-df-buttons div {\n",
              "      margin-bottom: 4px;\n",
              "    }\n",
              "\n",
              "    [theme=dark] .colab-df-convert {\n",
              "      background-color: #3B4455;\n",
              "      fill: #D2E3FC;\n",
              "    }\n",
              "\n",
              "    [theme=dark] .colab-df-convert:hover {\n",
              "      background-color: #434B5C;\n",
              "      box-shadow: 0px 1px 3px 1px rgba(0, 0, 0, 0.15);\n",
              "      filter: drop-shadow(0px 1px 2px rgba(0, 0, 0, 0.3));\n",
              "      fill: #FFFFFF;\n",
              "    }\n",
              "  </style>\n",
              "\n",
              "    <script>\n",
              "      const buttonEl =\n",
              "        document.querySelector('#df-99c80531-201a-4a59-a852-2d7a86309087 button.colab-df-convert');\n",
              "      buttonEl.style.display =\n",
              "        google.colab.kernel.accessAllowed ? 'block' : 'none';\n",
              "\n",
              "      async function convertToInteractive(key) {\n",
              "        const element = document.querySelector('#df-99c80531-201a-4a59-a852-2d7a86309087');\n",
              "        const dataTable =\n",
              "          await google.colab.kernel.invokeFunction('convertToInteractive',\n",
              "                                                    [key], {});\n",
              "        if (!dataTable) return;\n",
              "\n",
              "        const docLinkHtml = 'Like what you see? Visit the ' +\n",
              "          '<a target=\"_blank\" href=https://colab.research.google.com/notebooks/data_table.ipynb>data table notebook</a>'\n",
              "          + ' to learn more about interactive tables.';\n",
              "        element.innerHTML = '';\n",
              "        dataTable['output_type'] = 'display_data';\n",
              "        await google.colab.output.renderOutput(dataTable, element);\n",
              "        const docLink = document.createElement('div');\n",
              "        docLink.innerHTML = docLinkHtml;\n",
              "        element.appendChild(docLink);\n",
              "      }\n",
              "    </script>\n",
              "  </div>\n",
              "\n",
              "\n",
              "<div id=\"df-ea3e50d0-d3bb-495e-82b0-b157dc9477bd\">\n",
              "  <button class=\"colab-df-quickchart\" onclick=\"quickchart('df-ea3e50d0-d3bb-495e-82b0-b157dc9477bd')\"\n",
              "            title=\"Suggest charts\"\n",
              "            style=\"display:none;\">\n",
              "\n",
              "<svg xmlns=\"http://www.w3.org/2000/svg\" height=\"24px\"viewBox=\"0 0 24 24\"\n",
              "     width=\"24px\">\n",
              "    <g>\n",
              "        <path d=\"M19 3H5c-1.1 0-2 .9-2 2v14c0 1.1.9 2 2 2h14c1.1 0 2-.9 2-2V5c0-1.1-.9-2-2-2zM9 17H7v-7h2v7zm4 0h-2V7h2v10zm4 0h-2v-4h2v4z\"/>\n",
              "    </g>\n",
              "</svg>\n",
              "  </button>\n",
              "\n",
              "<style>\n",
              "  .colab-df-quickchart {\n",
              "      --bg-color: #E8F0FE;\n",
              "      --fill-color: #1967D2;\n",
              "      --hover-bg-color: #E2EBFA;\n",
              "      --hover-fill-color: #174EA6;\n",
              "      --disabled-fill-color: #AAA;\n",
              "      --disabled-bg-color: #DDD;\n",
              "  }\n",
              "\n",
              "  [theme=dark] .colab-df-quickchart {\n",
              "      --bg-color: #3B4455;\n",
              "      --fill-color: #D2E3FC;\n",
              "      --hover-bg-color: #434B5C;\n",
              "      --hover-fill-color: #FFFFFF;\n",
              "      --disabled-bg-color: #3B4455;\n",
              "      --disabled-fill-color: #666;\n",
              "  }\n",
              "\n",
              "  .colab-df-quickchart {\n",
              "    background-color: var(--bg-color);\n",
              "    border: none;\n",
              "    border-radius: 50%;\n",
              "    cursor: pointer;\n",
              "    display: none;\n",
              "    fill: var(--fill-color);\n",
              "    height: 32px;\n",
              "    padding: 0;\n",
              "    width: 32px;\n",
              "  }\n",
              "\n",
              "  .colab-df-quickchart:hover {\n",
              "    background-color: var(--hover-bg-color);\n",
              "    box-shadow: 0 1px 2px rgba(60, 64, 67, 0.3), 0 1px 3px 1px rgba(60, 64, 67, 0.15);\n",
              "    fill: var(--button-hover-fill-color);\n",
              "  }\n",
              "\n",
              "  .colab-df-quickchart-complete:disabled,\n",
              "  .colab-df-quickchart-complete:disabled:hover {\n",
              "    background-color: var(--disabled-bg-color);\n",
              "    fill: var(--disabled-fill-color);\n",
              "    box-shadow: none;\n",
              "  }\n",
              "\n",
              "  .colab-df-spinner {\n",
              "    border: 2px solid var(--fill-color);\n",
              "    border-color: transparent;\n",
              "    border-bottom-color: var(--fill-color);\n",
              "    animation:\n",
              "      spin 1s steps(1) infinite;\n",
              "  }\n",
              "\n",
              "  @keyframes spin {\n",
              "    0% {\n",
              "      border-color: transparent;\n",
              "      border-bottom-color: var(--fill-color);\n",
              "      border-left-color: var(--fill-color);\n",
              "    }\n",
              "    20% {\n",
              "      border-color: transparent;\n",
              "      border-left-color: var(--fill-color);\n",
              "      border-top-color: var(--fill-color);\n",
              "    }\n",
              "    30% {\n",
              "      border-color: transparent;\n",
              "      border-left-color: var(--fill-color);\n",
              "      border-top-color: var(--fill-color);\n",
              "      border-right-color: var(--fill-color);\n",
              "    }\n",
              "    40% {\n",
              "      border-color: transparent;\n",
              "      border-right-color: var(--fill-color);\n",
              "      border-top-color: var(--fill-color);\n",
              "    }\n",
              "    60% {\n",
              "      border-color: transparent;\n",
              "      border-right-color: var(--fill-color);\n",
              "    }\n",
              "    80% {\n",
              "      border-color: transparent;\n",
              "      border-right-color: var(--fill-color);\n",
              "      border-bottom-color: var(--fill-color);\n",
              "    }\n",
              "    90% {\n",
              "      border-color: transparent;\n",
              "      border-bottom-color: var(--fill-color);\n",
              "    }\n",
              "  }\n",
              "</style>\n",
              "\n",
              "  <script>\n",
              "    async function quickchart(key) {\n",
              "      const quickchartButtonEl =\n",
              "        document.querySelector('#' + key + ' button');\n",
              "      quickchartButtonEl.disabled = true;  // To prevent multiple clicks.\n",
              "      quickchartButtonEl.classList.add('colab-df-spinner');\n",
              "      try {\n",
              "        const charts = await google.colab.kernel.invokeFunction(\n",
              "            'suggestCharts', [key], {});\n",
              "      } catch (error) {\n",
              "        console.error('Error during call to suggestCharts:', error);\n",
              "      }\n",
              "      quickchartButtonEl.classList.remove('colab-df-spinner');\n",
              "      quickchartButtonEl.classList.add('colab-df-quickchart-complete');\n",
              "    }\n",
              "    (() => {\n",
              "      let quickchartButtonEl =\n",
              "        document.querySelector('#df-ea3e50d0-d3bb-495e-82b0-b157dc9477bd button');\n",
              "      quickchartButtonEl.style.display =\n",
              "        google.colab.kernel.accessAllowed ? 'block' : 'none';\n",
              "    })();\n",
              "  </script>\n",
              "</div>\n",
              "\n",
              "    </div>\n",
              "  </div>\n"
            ],
            "application/vnd.google.colaboratory.intrinsic+json": {
              "type": "dataframe",
              "summary": "{\n  \"name\": \"goals\",\n  \"rows\": 4,\n  \"fields\": [\n    {\n      \"column\": \"GOAL_ID\",\n      \"properties\": {\n        \"dtype\": \"string\",\n        \"num_unique_values\": 4,\n        \"samples\": [\n          \"gl1506\",\n          \"gl238\",\n          \"gl1247\"\n        ],\n        \"semantic_type\": \"\",\n        \"description\": \"\"\n      }\n    },\n    {\n      \"column\": \"MATCH_ID\",\n      \"properties\": {\n        \"dtype\": \"string\",\n        \"num_unique_values\": 4,\n        \"samples\": [\n          \"mt497\",\n          \"mt72\",\n          \"mt412\"\n        ],\n        \"semantic_type\": \"\",\n        \"description\": \"\"\n      }\n    },\n    {\n      \"column\": \"PID\",\n      \"properties\": {\n        \"dtype\": \"string\",\n        \"num_unique_values\": 4,\n        \"samples\": [\n          \"ply2458\",\n          \"ply87\",\n          \"ply864\"\n        ],\n        \"semantic_type\": \"\",\n        \"description\": \"\"\n      }\n    },\n    {\n      \"column\": \"DURATION\",\n      \"properties\": {\n        \"dtype\": \"number\",\n        \"std\": 26,\n        \"min\": 20,\n        \"max\": 80,\n        \"num_unique_values\": 4,\n        \"samples\": [\n          20,\n          80,\n          67\n        ],\n        \"semantic_type\": \"\",\n        \"description\": \"\"\n      }\n    },\n    {\n      \"column\": \"ASSIST\",\n      \"properties\": {\n        \"dtype\": \"string\",\n        \"num_unique_values\": 4,\n        \"samples\": [\n          \"ply1105\",\n          \"ply1100\",\n          \"ply861\"\n        ],\n        \"semantic_type\": \"\",\n        \"description\": \"\"\n      }\n    },\n    {\n      \"column\": \"GOAL_DESC\",\n      \"properties\": {\n        \"dtype\": \"string\",\n        \"num_unique_values\": 2,\n        \"samples\": [\n          \"right-footed shot\",\n          \"left-footed shot\"\n        ],\n        \"semantic_type\": \"\",\n        \"description\": \"\"\n      }\n    }\n  ]\n}"
            }
          },
          "metadata": {},
          "execution_count": 80
        }
      ]
    },
    {
      "cell_type": "markdown",
      "source": [
        "Descobrir a quantidade de linhas e colunas de goals"
      ],
      "metadata": {
        "id": "tJJOpawl0-eH"
      }
    },
    {
      "cell_type": "code",
      "source": [
        "linhas, colunas = goals.shape\n",
        "print(f'O banco de dados possui {linhas} linhas e {colunas} colunas')"
      ],
      "metadata": {
        "colab": {
          "base_uri": "https://localhost:8080/"
        },
        "id": "iSEOUt5f09hP",
        "outputId": "075d910b-8b8b-4d79-df7c-729a631ecbf3"
      },
      "execution_count": null,
      "outputs": [
        {
          "output_type": "stream",
          "name": "stdout",
          "text": [
            "O banco de dados possui 2279 linhas e 6 colunas\n"
          ]
        }
      ]
    },
    {
      "cell_type": "markdown",
      "source": [
        "Descobrir os nomes das colunas de goals"
      ],
      "metadata": {
        "id": "kVzHzQqN1DKU"
      }
    },
    {
      "cell_type": "code",
      "source": [
        "goals.columns"
      ],
      "metadata": {
        "colab": {
          "base_uri": "https://localhost:8080/"
        },
        "id": "EeM8gtjM1AvW",
        "outputId": "956ae7d5-ef24-4d31-febd-a04621f7302f"
      },
      "execution_count": null,
      "outputs": [
        {
          "output_type": "execute_result",
          "data": {
            "text/plain": [
              "Index(['GOAL_ID', 'MATCH_ID', 'PID', 'DURATION', 'ASSIST', 'GOAL_DESC'], dtype='object')"
            ]
          },
          "metadata": {},
          "execution_count": 82
        }
      ]
    },
    {
      "cell_type": "markdown",
      "source": [
        "Informações do tipo de dados de cada coluna"
      ],
      "metadata": {
        "id": "5aZaffFH1GWX"
      }
    },
    {
      "cell_type": "code",
      "source": [
        "goals.info()"
      ],
      "metadata": {
        "colab": {
          "base_uri": "https://localhost:8080/"
        },
        "id": "th0yW_Ui1GEU",
        "outputId": "83009254-75c0-4d7f-f03a-82568730f210"
      },
      "execution_count": null,
      "outputs": [
        {
          "output_type": "stream",
          "name": "stdout",
          "text": [
            "<class 'pandas.core.frame.DataFrame'>\n",
            "RangeIndex: 2279 entries, 0 to 2278\n",
            "Data columns (total 6 columns):\n",
            " #   Column     Non-Null Count  Dtype \n",
            "---  ------     --------------  ----- \n",
            " 0   GOAL_ID    2279 non-null   object\n",
            " 1   MATCH_ID   2279 non-null   object\n",
            " 2   PID        2176 non-null   object\n",
            " 3   DURATION   2279 non-null   int64 \n",
            " 4   ASSIST     1605 non-null   object\n",
            " 5   GOAL_DESC  2263 non-null   object\n",
            "dtypes: int64(1), object(5)\n",
            "memory usage: 107.0+ KB\n"
          ]
        }
      ]
    },
    {
      "cell_type": "markdown",
      "source": [
        "Analisar se possui dados duplicados"
      ],
      "metadata": {
        "id": "6RAg7MQs1Nmf"
      }
    },
    {
      "cell_type": "code",
      "source": [
        "goals.duplicated().sum()"
      ],
      "metadata": {
        "colab": {
          "base_uri": "https://localhost:8080/"
        },
        "id": "nzwNzy1A1NAy",
        "outputId": "082301eb-731a-4690-9203-20bba4de8351"
      },
      "execution_count": null,
      "outputs": [
        {
          "output_type": "execute_result",
          "data": {
            "text/plain": [
              "0"
            ]
          },
          "metadata": {},
          "execution_count": 84
        }
      ]
    },
    {
      "cell_type": "markdown",
      "source": [
        "Analisar se possui dados vazios"
      ],
      "metadata": {
        "id": "ACmYVLB91QR7"
      }
    },
    {
      "cell_type": "code",
      "source": [
        "goals.isnull().sum()"
      ],
      "metadata": {
        "colab": {
          "base_uri": "https://localhost:8080/",
          "height": 272
        },
        "id": "cemyytWa1Ru5",
        "outputId": "8170bb46-c28b-4670-d326-377a45ac3f6e"
      },
      "execution_count": null,
      "outputs": [
        {
          "output_type": "execute_result",
          "data": {
            "text/plain": [
              "GOAL_ID        0\n",
              "MATCH_ID       0\n",
              "PID          103\n",
              "DURATION       0\n",
              "ASSIST       674\n",
              "GOAL_DESC     16\n",
              "dtype: int64"
            ],
            "text/html": [
              "<div>\n",
              "<style scoped>\n",
              "    .dataframe tbody tr th:only-of-type {\n",
              "        vertical-align: middle;\n",
              "    }\n",
              "\n",
              "    .dataframe tbody tr th {\n",
              "        vertical-align: top;\n",
              "    }\n",
              "\n",
              "    .dataframe thead th {\n",
              "        text-align: right;\n",
              "    }\n",
              "</style>\n",
              "<table border=\"1\" class=\"dataframe\">\n",
              "  <thead>\n",
              "    <tr style=\"text-align: right;\">\n",
              "      <th></th>\n",
              "      <th>0</th>\n",
              "    </tr>\n",
              "  </thead>\n",
              "  <tbody>\n",
              "    <tr>\n",
              "      <th>GOAL_ID</th>\n",
              "      <td>0</td>\n",
              "    </tr>\n",
              "    <tr>\n",
              "      <th>MATCH_ID</th>\n",
              "      <td>0</td>\n",
              "    </tr>\n",
              "    <tr>\n",
              "      <th>PID</th>\n",
              "      <td>103</td>\n",
              "    </tr>\n",
              "    <tr>\n",
              "      <th>DURATION</th>\n",
              "      <td>0</td>\n",
              "    </tr>\n",
              "    <tr>\n",
              "      <th>ASSIST</th>\n",
              "      <td>674</td>\n",
              "    </tr>\n",
              "    <tr>\n",
              "      <th>GOAL_DESC</th>\n",
              "      <td>16</td>\n",
              "    </tr>\n",
              "  </tbody>\n",
              "</table>\n",
              "</div><br><label><b>dtype:</b> int64</label>"
            ]
          },
          "metadata": {},
          "execution_count": 85
        }
      ]
    },
    {
      "cell_type": "markdown",
      "source": [
        "PID: Não remover os dados vazios pois o não registro do nome do jogador pode ser um gol contra.\n",
        "ASSIST: vazio pois existem gols que foi jogada individual, sem ter assistência.\n",
        "GOAL_DESC não altera a analise"
      ],
      "metadata": {
        "id": "Icrie_XDwwvK"
      }
    },
    {
      "cell_type": "markdown",
      "source": [
        "Criação no Excel de um arquivo com os logos de cada time e exportar para o Colab"
      ],
      "metadata": {
        "id": "6qQOs5jj8a7_"
      }
    },
    {
      "cell_type": "code",
      "source": [
        "Team_Logo = pd.read_excel(\"/content/drive/MyDrive/Colab Notebooks/Projetos GitHub/UEFA Champions League 2016-2022 /TEAM LOGO.xlsx\")"
      ],
      "metadata": {
        "id": "tJVZ3_s26Sw5"
      },
      "execution_count": null,
      "outputs": []
    },
    {
      "cell_type": "markdown",
      "source": [
        "Mostrar 5 dados aleatórios."
      ],
      "metadata": {
        "id": "sEQiBf8m8nTy"
      }
    },
    {
      "cell_type": "code",
      "source": [
        "Team_Logo.head(4)"
      ],
      "metadata": {
        "colab": {
          "base_uri": "https://localhost:8080/",
          "height": 175
        },
        "id": "kOt0kO0i6gmN",
        "outputId": "ef7dc716-3d3e-48b4-eedb-61549d4c3fe4"
      },
      "execution_count": null,
      "outputs": [
        {
          "output_type": "execute_result",
          "data": {
            "text/plain": [
              "  LOGO_ID        TEAM_NAME                                                URL\n",
              "0   lg001         AC Milan  https://upload.wikimedia.org/wikipedia/commons...\n",
              "1   lg002         AFC Ajax  https://upload.wikimedia.org/wikipedia/pt/thum...\n",
              "2   lg003         Atalanta  https://upload.wikimedia.org/wikipedia/en/thum...\n",
              "3   lg004  Atlético Madrid  https://upload.wikimedia.org/wikipedia/pt/thum..."
            ],
            "text/html": [
              "\n",
              "  <div id=\"df-38f2cafc-df7a-4c71-8cc0-d411332148c7\" class=\"colab-df-container\">\n",
              "    <div>\n",
              "<style scoped>\n",
              "    .dataframe tbody tr th:only-of-type {\n",
              "        vertical-align: middle;\n",
              "    }\n",
              "\n",
              "    .dataframe tbody tr th {\n",
              "        vertical-align: top;\n",
              "    }\n",
              "\n",
              "    .dataframe thead th {\n",
              "        text-align: right;\n",
              "    }\n",
              "</style>\n",
              "<table border=\"1\" class=\"dataframe\">\n",
              "  <thead>\n",
              "    <tr style=\"text-align: right;\">\n",
              "      <th></th>\n",
              "      <th>LOGO_ID</th>\n",
              "      <th>TEAM_NAME</th>\n",
              "      <th>URL</th>\n",
              "    </tr>\n",
              "  </thead>\n",
              "  <tbody>\n",
              "    <tr>\n",
              "      <th>0</th>\n",
              "      <td>lg001</td>\n",
              "      <td>AC Milan</td>\n",
              "      <td>https://upload.wikimedia.org/wikipedia/commons...</td>\n",
              "    </tr>\n",
              "    <tr>\n",
              "      <th>1</th>\n",
              "      <td>lg002</td>\n",
              "      <td>AFC Ajax</td>\n",
              "      <td>https://upload.wikimedia.org/wikipedia/pt/thum...</td>\n",
              "    </tr>\n",
              "    <tr>\n",
              "      <th>2</th>\n",
              "      <td>lg003</td>\n",
              "      <td>Atalanta</td>\n",
              "      <td>https://upload.wikimedia.org/wikipedia/en/thum...</td>\n",
              "    </tr>\n",
              "    <tr>\n",
              "      <th>3</th>\n",
              "      <td>lg004</td>\n",
              "      <td>Atlético Madrid</td>\n",
              "      <td>https://upload.wikimedia.org/wikipedia/pt/thum...</td>\n",
              "    </tr>\n",
              "  </tbody>\n",
              "</table>\n",
              "</div>\n",
              "    <div class=\"colab-df-buttons\">\n",
              "\n",
              "  <div class=\"colab-df-container\">\n",
              "    <button class=\"colab-df-convert\" onclick=\"convertToInteractive('df-38f2cafc-df7a-4c71-8cc0-d411332148c7')\"\n",
              "            title=\"Convert this dataframe to an interactive table.\"\n",
              "            style=\"display:none;\">\n",
              "\n",
              "  <svg xmlns=\"http://www.w3.org/2000/svg\" height=\"24px\" viewBox=\"0 -960 960 960\">\n",
              "    <path d=\"M120-120v-720h720v720H120Zm60-500h600v-160H180v160Zm220 220h160v-160H400v160Zm0 220h160v-160H400v160ZM180-400h160v-160H180v160Zm440 0h160v-160H620v160ZM180-180h160v-160H180v160Zm440 0h160v-160H620v160Z\"/>\n",
              "  </svg>\n",
              "    </button>\n",
              "\n",
              "  <style>\n",
              "    .colab-df-container {\n",
              "      display:flex;\n",
              "      gap: 12px;\n",
              "    }\n",
              "\n",
              "    .colab-df-convert {\n",
              "      background-color: #E8F0FE;\n",
              "      border: none;\n",
              "      border-radius: 50%;\n",
              "      cursor: pointer;\n",
              "      display: none;\n",
              "      fill: #1967D2;\n",
              "      height: 32px;\n",
              "      padding: 0 0 0 0;\n",
              "      width: 32px;\n",
              "    }\n",
              "\n",
              "    .colab-df-convert:hover {\n",
              "      background-color: #E2EBFA;\n",
              "      box-shadow: 0px 1px 2px rgba(60, 64, 67, 0.3), 0px 1px 3px 1px rgba(60, 64, 67, 0.15);\n",
              "      fill: #174EA6;\n",
              "    }\n",
              "\n",
              "    .colab-df-buttons div {\n",
              "      margin-bottom: 4px;\n",
              "    }\n",
              "\n",
              "    [theme=dark] .colab-df-convert {\n",
              "      background-color: #3B4455;\n",
              "      fill: #D2E3FC;\n",
              "    }\n",
              "\n",
              "    [theme=dark] .colab-df-convert:hover {\n",
              "      background-color: #434B5C;\n",
              "      box-shadow: 0px 1px 3px 1px rgba(0, 0, 0, 0.15);\n",
              "      filter: drop-shadow(0px 1px 2px rgba(0, 0, 0, 0.3));\n",
              "      fill: #FFFFFF;\n",
              "    }\n",
              "  </style>\n",
              "\n",
              "    <script>\n",
              "      const buttonEl =\n",
              "        document.querySelector('#df-38f2cafc-df7a-4c71-8cc0-d411332148c7 button.colab-df-convert');\n",
              "      buttonEl.style.display =\n",
              "        google.colab.kernel.accessAllowed ? 'block' : 'none';\n",
              "\n",
              "      async function convertToInteractive(key) {\n",
              "        const element = document.querySelector('#df-38f2cafc-df7a-4c71-8cc0-d411332148c7');\n",
              "        const dataTable =\n",
              "          await google.colab.kernel.invokeFunction('convertToInteractive',\n",
              "                                                    [key], {});\n",
              "        if (!dataTable) return;\n",
              "\n",
              "        const docLinkHtml = 'Like what you see? Visit the ' +\n",
              "          '<a target=\"_blank\" href=https://colab.research.google.com/notebooks/data_table.ipynb>data table notebook</a>'\n",
              "          + ' to learn more about interactive tables.';\n",
              "        element.innerHTML = '';\n",
              "        dataTable['output_type'] = 'display_data';\n",
              "        await google.colab.output.renderOutput(dataTable, element);\n",
              "        const docLink = document.createElement('div');\n",
              "        docLink.innerHTML = docLinkHtml;\n",
              "        element.appendChild(docLink);\n",
              "      }\n",
              "    </script>\n",
              "  </div>\n",
              "\n",
              "\n",
              "<div id=\"df-8ab97fc9-f1cb-46a4-8514-4261bb0fe858\">\n",
              "  <button class=\"colab-df-quickchart\" onclick=\"quickchart('df-8ab97fc9-f1cb-46a4-8514-4261bb0fe858')\"\n",
              "            title=\"Suggest charts\"\n",
              "            style=\"display:none;\">\n",
              "\n",
              "<svg xmlns=\"http://www.w3.org/2000/svg\" height=\"24px\"viewBox=\"0 0 24 24\"\n",
              "     width=\"24px\">\n",
              "    <g>\n",
              "        <path d=\"M19 3H5c-1.1 0-2 .9-2 2v14c0 1.1.9 2 2 2h14c1.1 0 2-.9 2-2V5c0-1.1-.9-2-2-2zM9 17H7v-7h2v7zm4 0h-2V7h2v10zm4 0h-2v-4h2v4z\"/>\n",
              "    </g>\n",
              "</svg>\n",
              "  </button>\n",
              "\n",
              "<style>\n",
              "  .colab-df-quickchart {\n",
              "      --bg-color: #E8F0FE;\n",
              "      --fill-color: #1967D2;\n",
              "      --hover-bg-color: #E2EBFA;\n",
              "      --hover-fill-color: #174EA6;\n",
              "      --disabled-fill-color: #AAA;\n",
              "      --disabled-bg-color: #DDD;\n",
              "  }\n",
              "\n",
              "  [theme=dark] .colab-df-quickchart {\n",
              "      --bg-color: #3B4455;\n",
              "      --fill-color: #D2E3FC;\n",
              "      --hover-bg-color: #434B5C;\n",
              "      --hover-fill-color: #FFFFFF;\n",
              "      --disabled-bg-color: #3B4455;\n",
              "      --disabled-fill-color: #666;\n",
              "  }\n",
              "\n",
              "  .colab-df-quickchart {\n",
              "    background-color: var(--bg-color);\n",
              "    border: none;\n",
              "    border-radius: 50%;\n",
              "    cursor: pointer;\n",
              "    display: none;\n",
              "    fill: var(--fill-color);\n",
              "    height: 32px;\n",
              "    padding: 0;\n",
              "    width: 32px;\n",
              "  }\n",
              "\n",
              "  .colab-df-quickchart:hover {\n",
              "    background-color: var(--hover-bg-color);\n",
              "    box-shadow: 0 1px 2px rgba(60, 64, 67, 0.3), 0 1px 3px 1px rgba(60, 64, 67, 0.15);\n",
              "    fill: var(--button-hover-fill-color);\n",
              "  }\n",
              "\n",
              "  .colab-df-quickchart-complete:disabled,\n",
              "  .colab-df-quickchart-complete:disabled:hover {\n",
              "    background-color: var(--disabled-bg-color);\n",
              "    fill: var(--disabled-fill-color);\n",
              "    box-shadow: none;\n",
              "  }\n",
              "\n",
              "  .colab-df-spinner {\n",
              "    border: 2px solid var(--fill-color);\n",
              "    border-color: transparent;\n",
              "    border-bottom-color: var(--fill-color);\n",
              "    animation:\n",
              "      spin 1s steps(1) infinite;\n",
              "  }\n",
              "\n",
              "  @keyframes spin {\n",
              "    0% {\n",
              "      border-color: transparent;\n",
              "      border-bottom-color: var(--fill-color);\n",
              "      border-left-color: var(--fill-color);\n",
              "    }\n",
              "    20% {\n",
              "      border-color: transparent;\n",
              "      border-left-color: var(--fill-color);\n",
              "      border-top-color: var(--fill-color);\n",
              "    }\n",
              "    30% {\n",
              "      border-color: transparent;\n",
              "      border-left-color: var(--fill-color);\n",
              "      border-top-color: var(--fill-color);\n",
              "      border-right-color: var(--fill-color);\n",
              "    }\n",
              "    40% {\n",
              "      border-color: transparent;\n",
              "      border-right-color: var(--fill-color);\n",
              "      border-top-color: var(--fill-color);\n",
              "    }\n",
              "    60% {\n",
              "      border-color: transparent;\n",
              "      border-right-color: var(--fill-color);\n",
              "    }\n",
              "    80% {\n",
              "      border-color: transparent;\n",
              "      border-right-color: var(--fill-color);\n",
              "      border-bottom-color: var(--fill-color);\n",
              "    }\n",
              "    90% {\n",
              "      border-color: transparent;\n",
              "      border-bottom-color: var(--fill-color);\n",
              "    }\n",
              "  }\n",
              "</style>\n",
              "\n",
              "  <script>\n",
              "    async function quickchart(key) {\n",
              "      const quickchartButtonEl =\n",
              "        document.querySelector('#' + key + ' button');\n",
              "      quickchartButtonEl.disabled = true;  // To prevent multiple clicks.\n",
              "      quickchartButtonEl.classList.add('colab-df-spinner');\n",
              "      try {\n",
              "        const charts = await google.colab.kernel.invokeFunction(\n",
              "            'suggestCharts', [key], {});\n",
              "      } catch (error) {\n",
              "        console.error('Error during call to suggestCharts:', error);\n",
              "      }\n",
              "      quickchartButtonEl.classList.remove('colab-df-spinner');\n",
              "      quickchartButtonEl.classList.add('colab-df-quickchart-complete');\n",
              "    }\n",
              "    (() => {\n",
              "      let quickchartButtonEl =\n",
              "        document.querySelector('#df-8ab97fc9-f1cb-46a4-8514-4261bb0fe858 button');\n",
              "      quickchartButtonEl.style.display =\n",
              "        google.colab.kernel.accessAllowed ? 'block' : 'none';\n",
              "    })();\n",
              "  </script>\n",
              "</div>\n",
              "\n",
              "    </div>\n",
              "  </div>\n"
            ],
            "application/vnd.google.colaboratory.intrinsic+json": {
              "type": "dataframe",
              "variable_name": "Team_Logo",
              "summary": "{\n  \"name\": \"Team_Logo\",\n  \"rows\": 74,\n  \"fields\": [\n    {\n      \"column\": \"LOGO_ID\",\n      \"properties\": {\n        \"dtype\": \"string\",\n        \"num_unique_values\": 74,\n        \"samples\": [\n          \"lg005\",\n          \"lg064\",\n          \"lg019\"\n        ],\n        \"semantic_type\": \"\",\n        \"description\": \"\"\n      }\n    },\n    {\n      \"column\": \"TEAM_NAME\",\n      \"properties\": {\n        \"dtype\": \"string\",\n        \"num_unique_values\": 74,\n        \"samples\": [\n          \"Bayern M\\u00fcnchen\",\n          \"Feyenoord\",\n          \"Malm\\u00f6 FF\"\n        ],\n        \"semantic_type\": \"\",\n        \"description\": \"\"\n      }\n    },\n    {\n      \"column\": \"URL\",\n      \"properties\": {\n        \"dtype\": \"string\",\n        \"num_unique_values\": 74,\n        \"samples\": [\n          \"https://upload.wikimedia.org/wikipedia/commons/8/8d/FC_Bayern_M%C3%BCnchen_logo_%282024%29.svg\",\n          \"https://upload.wikimedia.org/wikipedia/commons/thumb/f/f9/Feyenoord_logo_since_2024.svg/1200px-Feyenoord_logo_since_2024.svg.png\",\n          \"https://upload.wikimedia.org/wikipedia/commons/thumb/e/ef/Malmo_FF_logo.svg/1200px-Malmo_FF_logo.svg.png\"\n        ],\n        \"semantic_type\": \"\",\n        \"description\": \"\"\n      }\n    }\n  ]\n}"
            }
          },
          "metadata": {},
          "execution_count": 87
        }
      ]
    },
    {
      "cell_type": "markdown",
      "source": [
        "Após o tratamento dos dados, fazer a exportação para CSV"
      ],
      "metadata": {
        "id": "HGwgCFGJ4_Tr"
      }
    },
    {
      "cell_type": "code",
      "source": [
        "teams.to_csv('teams.csv', index=False)\n",
        "stadiums.to_csv('stadiums.csv', index=False)\n",
        "players.to_csv('players.csv', index=False)\n",
        "managers.to_csv('managers.csv', index=False)\n",
        "matches.to_csv('matches.csv', index=False)\n",
        "goals.to_csv('goals.csv', index=False)\n",
        "Team_Logo.to_csv('TEAM_LOGO.csv', index=False)"
      ],
      "metadata": {
        "id": "_D6w9UzG6icg"
      },
      "execution_count": null,
      "outputs": []
    },
    {
      "cell_type": "markdown",
      "source": [
        "Importar os dados para o SQL Server e para o Power BI"
      ],
      "metadata": {
        "id": "zFKboA_j5D_v"
      }
    },
    {
      "cell_type": "markdown",
      "source": [
        "![image.png](data:image/png;base64,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)"
      ],
      "metadata": {
        "id": "m97uW0g17nYf"
      }
    }
  ]
}